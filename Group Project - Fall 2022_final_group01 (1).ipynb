{
 "cells": [
  {
   "cell_type": "markdown",
   "metadata": {},
   "source": [
    "        Data Science: A Programming Approach\n",
    "        Mahyar S Vaghefi\n",
    "        University of Texas Arlington\n",
    "        \n",
    "        This document can only be used for class studies. \n",
    "        You are not allowed to share it in any public platform."
   ]
  },
  {
   "cell_type": "markdown",
   "metadata": {},
   "source": [
    "<h1 align='center' style=\"color: blue;\">Group Project - Fall 2022</h1>"
   ]
  },
  {
   "cell_type": "markdown",
   "metadata": {},
   "source": [
    "You need to work as a team for this project. Your job is to develop a predictive model that can predict whether or not a movie is a <i>Drama</i>. In order to do so you need to use the textual features of the movie stories and creat your predictive models. There are totally three different files in this project.\n",
    "\n",
    "<ol>\n",
    "    <li><b>movie_story_student_file.csv</b>: This file contains the movie stories that should be used by students for model development.</li>\n",
    "    <li><b>movie_story_evaluation_file.csv</b>: This file should NOT be used for model development purposes. Students should only use this file after developing their predictive models and selecting their best final model. They then need to use their best predictive model and predict whether or not the movies in <b>movie story evaluation file.csv</b> are Drama.</li>\n",
    "    <li><b>movies.csv</b>: This file contain the movie genres.</li>\n",
    "</ol>"
   ]
  },
  {
   "cell_type": "markdown",
   "metadata": {},
   "source": [
    "<b>Additional Note:</b> This note provides additional guideline for the project."
   ]
  },
  {
   "cell_type": "markdown",
   "metadata": {},
   "source": [
    "<b>Step 1:</b> Explore all files to become familiar with the dataset <br />\n",
    "<b>Step 2:</b> There are 20,000 movies in `movie_story_student_file.csv`file. Use the `movies.csv` file to determine whether a movie is Drama or not. The final output of this step should be development of a dataframe file that contains three columns: 1) movieId, 2) story, 3) DramaGenre. The value for the third column should be in a binary format. If the movie is drama the value should be 1, otherwise 0. Name the new file as `main_dataset`. <br />\n",
    "<b>Step 3:</b> If you want to just have one train and one test set, then split the `main_dataset` to train and test sets. Otherwise you can use cross validation methods.  <br />\n",
    "<b>Step 4:</b> Use your supervised learning and text analysis knowledge to develope different predictive models (i.e. logestic regression, random forest, ...). Test the performance of your models in terms of accuracy, precision, recall, and F1 scores. <br />\n",
    "<b>Step 5:</b> Choose one of your best models (only one). Then use the full data available in `main dataset` to train that model.<br />\n",
    "<b>Step 6:</b> Prepare data in `movie_story_evaluation_file.csv` for prediction. You need to perform the exact same steps that you have done in <b>Step 2</b> to prepare this new dataset. Name the new dataset as `evaluation_dataset`. <br />\n",
    "<b>Step 7:</b> Use your selected model in Step 5 to predict whether or not movies in `evaluation_dataset` are Drama movies. <br />\n",
    "<b>Step 8:</b> Report the final accuracy, precision, recall and F1 score. <br />"
   ]
  },
  {
   "cell_type": "markdown",
   "metadata": {},
   "source": [
    "Keep in mind that the above steps are only provide guidelines. There are more detail works in this project that should be identified by students. "
   ]
  },
  {
   "cell_type": "markdown",
   "metadata": {},
   "source": [
    "<b>Extra Credit</b> The group with the best prediction model is going to get extra points."
   ]
  },
  {
   "cell_type": "markdown",
   "metadata": {},
   "source": [
    "***Let's import all the required packages in the next module***"
   ]
  },
  {
   "cell_type": "code",
   "execution_count": 1,
   "metadata": {},
   "outputs": [],
   "source": [
    "import numpy as np\n",
    "import pandas as pd\n",
    "from sklearn.model_selection import train_test_split\n",
    "from sklearn.linear_model import LogisticRegression\n",
    "from sklearn.neighbors import KNeighborsClassifier\n",
    "from sklearn.model_selection import GridSearchCV\n",
    "from sklearn.model_selection import StratifiedKFold\n",
    "from sklearn.ensemble import RandomForestClassifier\n",
    "from sklearn.svm import SVC\n",
    "from sklearn.naive_bayes import MultinomialNB\n",
    "from sklearn.linear_model import SGDClassifier\n",
    "from sklearn.metrics import accuracy_score, f1_score, precision_score, recall_score\n",
    "from sklearn.metrics import classification_report, confusion_matrix\n",
    "import seaborn as sns\n",
    "import matplotlib.pyplot as plt\n",
    "import re\n",
    "from nltk.corpus import stopwords\n",
    "from nltk.stem import PorterStemmer"
   ]
  },
  {
   "cell_type": "markdown",
   "metadata": {},
   "source": [
    "As the required packages were installed lets read the given csv files into the variables "
   ]
  },
  {
   "cell_type": "code",
   "execution_count": 2,
   "metadata": {},
   "outputs": [],
   "source": [
    "data_student = pd.read_csv('movie_story_student_file.csv')\n",
    "data_evaluation = pd.read_csv('movie_story_evaluation_file.csv')\n",
    "data_movies = pd.read_csv('movies.csv')"
   ]
  },
  {
   "cell_type": "markdown",
   "metadata": {},
   "source": [
    "Let's check whether there are any null values in the data or not using sum() we can get the number of missing values in each column."
   ]
  },
  {
   "cell_type": "code",
   "execution_count": 3,
   "metadata": {},
   "outputs": [
    {
     "data": {
      "text/plain": [
       "movie_id    0\n",
       "story       0\n",
       "dtype: int64"
      ]
     },
     "execution_count": 3,
     "metadata": {},
     "output_type": "execute_result"
    }
   ],
   "source": [
    "data_student.isnull().sum()"
   ]
  },
  {
   "cell_type": "code",
   "execution_count": 4,
   "metadata": {},
   "outputs": [
    {
     "data": {
      "text/plain": [
       "movie_id    0\n",
       "story       0\n",
       "dtype: int64"
      ]
     },
     "execution_count": 4,
     "metadata": {},
     "output_type": "execute_result"
    }
   ],
   "source": [
    "data_evaluation.isnull().sum()"
   ]
  },
  {
   "cell_type": "code",
   "execution_count": 5,
   "metadata": {},
   "outputs": [
    {
     "data": {
      "text/plain": [
       "movieId    0\n",
       "title      0\n",
       "genres     0\n",
       "dtype: int64"
      ]
     },
     "execution_count": 5,
     "metadata": {},
     "output_type": "execute_result"
    }
   ],
   "source": [
    "data_movies.isnull().sum()"
   ]
  },
  {
   "cell_type": "markdown",
   "metadata": {},
   "source": [
    "As we can see there no null values in any of the data files so we can go ahead proceed further."
   ]
  },
  {
   "cell_type": "code",
   "execution_count": 6,
   "metadata": {},
   "outputs": [
    {
     "data": {
      "text/html": [
       "<div>\n",
       "<style scoped>\n",
       "    .dataframe tbody tr th:only-of-type {\n",
       "        vertical-align: middle;\n",
       "    }\n",
       "\n",
       "    .dataframe tbody tr th {\n",
       "        vertical-align: top;\n",
       "    }\n",
       "\n",
       "    .dataframe thead th {\n",
       "        text-align: right;\n",
       "    }\n",
       "</style>\n",
       "<table border=\"1\" class=\"dataframe\">\n",
       "  <thead>\n",
       "    <tr style=\"text-align: right;\">\n",
       "      <th></th>\n",
       "      <th>movie_id</th>\n",
       "      <th>story</th>\n",
       "    </tr>\n",
       "  </thead>\n",
       "  <tbody>\n",
       "    <tr>\n",
       "      <th>0</th>\n",
       "      <td>122349</td>\n",
       "      <td>Growing up in the Mission district of San Fran...</td>\n",
       "    </tr>\n",
       "    <tr>\n",
       "      <th>1</th>\n",
       "      <td>122351</td>\n",
       "      <td>A soldier returns home from the Iraq war only ...</td>\n",
       "    </tr>\n",
       "    <tr>\n",
       "      <th>2</th>\n",
       "      <td>122361</td>\n",
       "      <td>Marco the Monkey works as a beach officer. But...</td>\n",
       "    </tr>\n",
       "    <tr>\n",
       "      <th>3</th>\n",
       "      <td>187901</td>\n",
       "      <td>When an honest cop, Vijay Kumar\\'s family is r...</td>\n",
       "    </tr>\n",
       "    <tr>\n",
       "      <th>4</th>\n",
       "      <td>187903</td>\n",
       "      <td>Kathiresan aka Kaththi, a criminal, escapes fr...</td>\n",
       "    </tr>\n",
       "    <tr>\n",
       "      <th>...</th>\n",
       "      <td>...</td>\n",
       "      <td>...</td>\n",
       "    </tr>\n",
       "    <tr>\n",
       "      <th>3493</th>\n",
       "      <td>131062</td>\n",
       "      <td>In the middle of nowhere, 20 years after an ap...</td>\n",
       "    </tr>\n",
       "    <tr>\n",
       "      <th>3494</th>\n",
       "      <td>131064</td>\n",
       "      <td>After living for years as a struggling artist ...</td>\n",
       "    </tr>\n",
       "    <tr>\n",
       "      <th>3495</th>\n",
       "      <td>131066</td>\n",
       "      <td>Ronal is a young barbarian with low self-estee...</td>\n",
       "    </tr>\n",
       "    <tr>\n",
       "      <th>3496</th>\n",
       "      <td>131068</td>\n",
       "      <td>Ziege, H\\xc3\\xa4schen and Max have now moved t...</td>\n",
       "    </tr>\n",
       "    <tr>\n",
       "      <th>3497</th>\n",
       "      <td>131070</td>\n",
       "      <td>During their childhood, Hanna and Clarissa wer...</td>\n",
       "    </tr>\n",
       "  </tbody>\n",
       "</table>\n",
       "<p>3498 rows × 2 columns</p>\n",
       "</div>"
      ],
      "text/plain": [
       "      movie_id                                              story\n",
       "0       122349  Growing up in the Mission district of San Fran...\n",
       "1       122351  A soldier returns home from the Iraq war only ...\n",
       "2       122361  Marco the Monkey works as a beach officer. But...\n",
       "3       187901  When an honest cop, Vijay Kumar\\'s family is r...\n",
       "4       187903  Kathiresan aka Kaththi, a criminal, escapes fr...\n",
       "...        ...                                                ...\n",
       "3493    131062  In the middle of nowhere, 20 years after an ap...\n",
       "3494    131064  After living for years as a struggling artist ...\n",
       "3495    131066  Ronal is a young barbarian with low self-estee...\n",
       "3496    131068  Ziege, H\\xc3\\xa4schen and Max have now moved t...\n",
       "3497    131070  During their childhood, Hanna and Clarissa wer...\n",
       "\n",
       "[3498 rows x 2 columns]"
      ]
     },
     "execution_count": 6,
     "metadata": {},
     "output_type": "execute_result"
    }
   ],
   "source": [
    "data_evaluation"
   ]
  },
  {
   "cell_type": "code",
   "execution_count": 7,
   "metadata": {},
   "outputs": [
    {
     "data": {
      "text/html": [
       "<div>\n",
       "<style scoped>\n",
       "    .dataframe tbody tr th:only-of-type {\n",
       "        vertical-align: middle;\n",
       "    }\n",
       "\n",
       "    .dataframe tbody tr th {\n",
       "        vertical-align: top;\n",
       "    }\n",
       "\n",
       "    .dataframe thead th {\n",
       "        text-align: right;\n",
       "    }\n",
       "</style>\n",
       "<table border=\"1\" class=\"dataframe\">\n",
       "  <thead>\n",
       "    <tr style=\"text-align: right;\">\n",
       "      <th></th>\n",
       "      <th>movie_id</th>\n",
       "      <th>story</th>\n",
       "    </tr>\n",
       "  </thead>\n",
       "  <tbody>\n",
       "    <tr>\n",
       "      <th>0</th>\n",
       "      <td>131072</td>\n",
       "      <td>A girl who always tends to fall in love with t...</td>\n",
       "    </tr>\n",
       "    <tr>\n",
       "      <th>1</th>\n",
       "      <td>196609</td>\n",
       "      <td>Bigfoot has come to the town of Ellwood City, ...</td>\n",
       "    </tr>\n",
       "    <tr>\n",
       "      <th>2</th>\n",
       "      <td>131074</td>\n",
       "      <td>At an altitude of 18,000 feet, Alaska\\'s Mount...</td>\n",
       "    </tr>\n",
       "    <tr>\n",
       "      <th>3</th>\n",
       "      <td>196611</td>\n",
       "      <td>In her first special since 2003, Ellen revisit...</td>\n",
       "    </tr>\n",
       "    <tr>\n",
       "      <th>4</th>\n",
       "      <td>196613</td>\n",
       "      <td>Mike and Sulley are back at Monsters Universit...</td>\n",
       "    </tr>\n",
       "    <tr>\n",
       "      <th>...</th>\n",
       "      <td>...</td>\n",
       "      <td>...</td>\n",
       "    </tr>\n",
       "    <tr>\n",
       "      <th>19995</th>\n",
       "      <td>56801</td>\n",
       "      <td>The iconic creatures from two of the scariest ...</td>\n",
       "    </tr>\n",
       "    <tr>\n",
       "      <th>19996</th>\n",
       "      <td>122337</td>\n",
       "      <td>When a bored-with-life English teacher meets a...</td>\n",
       "    </tr>\n",
       "    <tr>\n",
       "      <th>19997</th>\n",
       "      <td>187875</td>\n",
       "      <td>Herbert Blount is a crowdfunding contributor f...</td>\n",
       "    </tr>\n",
       "    <tr>\n",
       "      <th>19998</th>\n",
       "      <td>187873</td>\n",
       "      <td>REAL BOY is the coming-of-age story of Bennett...</td>\n",
       "    </tr>\n",
       "    <tr>\n",
       "      <th>19999</th>\n",
       "      <td>56805</td>\n",
       "      <td>Following a childhood tragedy, Dewey Cox follo...</td>\n",
       "    </tr>\n",
       "  </tbody>\n",
       "</table>\n",
       "<p>20000 rows × 2 columns</p>\n",
       "</div>"
      ],
      "text/plain": [
       "       movie_id                                              story\n",
       "0        131072  A girl who always tends to fall in love with t...\n",
       "1        196609  Bigfoot has come to the town of Ellwood City, ...\n",
       "2        131074  At an altitude of 18,000 feet, Alaska\\'s Mount...\n",
       "3        196611  In her first special since 2003, Ellen revisit...\n",
       "4        196613  Mike and Sulley are back at Monsters Universit...\n",
       "...         ...                                                ...\n",
       "19995     56801  The iconic creatures from two of the scariest ...\n",
       "19996    122337  When a bored-with-life English teacher meets a...\n",
       "19997    187875  Herbert Blount is a crowdfunding contributor f...\n",
       "19998    187873  REAL BOY is the coming-of-age story of Bennett...\n",
       "19999     56805  Following a childhood tragedy, Dewey Cox follo...\n",
       "\n",
       "[20000 rows x 2 columns]"
      ]
     },
     "execution_count": 7,
     "metadata": {},
     "output_type": "execute_result"
    }
   ],
   "source": [
    "data_student"
   ]
  },
  {
   "cell_type": "code",
   "execution_count": 8,
   "metadata": {},
   "outputs": [
    {
     "data": {
      "text/html": [
       "<div>\n",
       "<style scoped>\n",
       "    .dataframe tbody tr th:only-of-type {\n",
       "        vertical-align: middle;\n",
       "    }\n",
       "\n",
       "    .dataframe tbody tr th {\n",
       "        vertical-align: top;\n",
       "    }\n",
       "\n",
       "    .dataframe thead th {\n",
       "        text-align: right;\n",
       "    }\n",
       "</style>\n",
       "<table border=\"1\" class=\"dataframe\">\n",
       "  <thead>\n",
       "    <tr style=\"text-align: right;\">\n",
       "      <th></th>\n",
       "      <th>movieId</th>\n",
       "      <th>title</th>\n",
       "      <th>genres</th>\n",
       "    </tr>\n",
       "  </thead>\n",
       "  <tbody>\n",
       "    <tr>\n",
       "      <th>0</th>\n",
       "      <td>27509</td>\n",
       "      <td>Carolina (2005)</td>\n",
       "      <td>Comedy|Romance</td>\n",
       "    </tr>\n",
       "    <tr>\n",
       "      <th>1</th>\n",
       "      <td>27618</td>\n",
       "      <td>Sound of Thunder, A (2005)</td>\n",
       "      <td>Action|Adventure|Drama|Sci-Fi|Thriller</td>\n",
       "    </tr>\n",
       "    <tr>\n",
       "      <th>2</th>\n",
       "      <td>27788</td>\n",
       "      <td>Jacket, The (2005)</td>\n",
       "      <td>Drama|Mystery|Sci-Fi|Thriller</td>\n",
       "    </tr>\n",
       "    <tr>\n",
       "      <th>3</th>\n",
       "      <td>27821</td>\n",
       "      <td>Interpreter, The (2005)</td>\n",
       "      <td>Drama|Thriller</td>\n",
       "    </tr>\n",
       "    <tr>\n",
       "      <th>4</th>\n",
       "      <td>27839</td>\n",
       "      <td>Ring Two, The (2005)</td>\n",
       "      <td>Drama|Horror|Mystery|Thriller</td>\n",
       "    </tr>\n",
       "    <tr>\n",
       "      <th>...</th>\n",
       "      <td>...</td>\n",
       "      <td>...</td>\n",
       "      <td>...</td>\n",
       "    </tr>\n",
       "    <tr>\n",
       "      <th>23493</th>\n",
       "      <td>209051</td>\n",
       "      <td>Jeff Garlin: Our Man in Chicago (2019)</td>\n",
       "      <td>(no genres listed)</td>\n",
       "    </tr>\n",
       "    <tr>\n",
       "      <th>23494</th>\n",
       "      <td>209085</td>\n",
       "      <td>The Mistletoe Secret (2019)</td>\n",
       "      <td>Romance</td>\n",
       "    </tr>\n",
       "    <tr>\n",
       "      <th>23495</th>\n",
       "      <td>209133</td>\n",
       "      <td>The Riot and the Dance (2018)</td>\n",
       "      <td>(no genres listed)</td>\n",
       "    </tr>\n",
       "    <tr>\n",
       "      <th>23496</th>\n",
       "      <td>209157</td>\n",
       "      <td>We (2018)</td>\n",
       "      <td>Drama</td>\n",
       "    </tr>\n",
       "    <tr>\n",
       "      <th>23497</th>\n",
       "      <td>209163</td>\n",
       "      <td>Bad Poems (2018)</td>\n",
       "      <td>Comedy|Drama</td>\n",
       "    </tr>\n",
       "  </tbody>\n",
       "</table>\n",
       "<p>23498 rows × 3 columns</p>\n",
       "</div>"
      ],
      "text/plain": [
       "       movieId                                   title  \\\n",
       "0        27509                         Carolina (2005)   \n",
       "1        27618              Sound of Thunder, A (2005)   \n",
       "2        27788                      Jacket, The (2005)   \n",
       "3        27821                 Interpreter, The (2005)   \n",
       "4        27839                    Ring Two, The (2005)   \n",
       "...        ...                                     ...   \n",
       "23493   209051  Jeff Garlin: Our Man in Chicago (2019)   \n",
       "23494   209085             The Mistletoe Secret (2019)   \n",
       "23495   209133           The Riot and the Dance (2018)   \n",
       "23496   209157                               We (2018)   \n",
       "23497   209163                        Bad Poems (2018)   \n",
       "\n",
       "                                       genres  \n",
       "0                              Comedy|Romance  \n",
       "1      Action|Adventure|Drama|Sci-Fi|Thriller  \n",
       "2               Drama|Mystery|Sci-Fi|Thriller  \n",
       "3                              Drama|Thriller  \n",
       "4               Drama|Horror|Mystery|Thriller  \n",
       "...                                       ...  \n",
       "23493                      (no genres listed)  \n",
       "23494                                 Romance  \n",
       "23495                      (no genres listed)  \n",
       "23496                                   Drama  \n",
       "23497                            Comedy|Drama  \n",
       "\n",
       "[23498 rows x 3 columns]"
      ]
     },
     "execution_count": 8,
     "metadata": {},
     "output_type": "execute_result"
    }
   ],
   "source": [
    "data_movies"
   ]
  },
  {
   "cell_type": "markdown",
   "metadata": {},
   "source": [
    "As we look at the movies dataset we can see in the genres column we have some rows with values no genres listed and no overview found we can drop them."
   ]
  },
  {
   "cell_type": "code",
   "execution_count": 9,
   "metadata": {},
   "outputs": [
    {
     "data": {
      "text/html": [
       "<div>\n",
       "<style scoped>\n",
       "    .dataframe tbody tr th:only-of-type {\n",
       "        vertical-align: middle;\n",
       "    }\n",
       "\n",
       "    .dataframe tbody tr th {\n",
       "        vertical-align: top;\n",
       "    }\n",
       "\n",
       "    .dataframe thead th {\n",
       "        text-align: right;\n",
       "    }\n",
       "</style>\n",
       "<table border=\"1\" class=\"dataframe\">\n",
       "  <thead>\n",
       "    <tr style=\"text-align: right;\">\n",
       "      <th></th>\n",
       "      <th>movie_id</th>\n",
       "      <th>story</th>\n",
       "    </tr>\n",
       "  </thead>\n",
       "  <tbody>\n",
       "    <tr>\n",
       "      <th>0</th>\n",
       "      <td>131072</td>\n",
       "      <td>A girl who always tends to fall in love with t...</td>\n",
       "    </tr>\n",
       "    <tr>\n",
       "      <th>1</th>\n",
       "      <td>196609</td>\n",
       "      <td>Bigfoot has come to the town of Ellwood City, ...</td>\n",
       "    </tr>\n",
       "    <tr>\n",
       "      <th>2</th>\n",
       "      <td>131074</td>\n",
       "      <td>At an altitude of 18,000 feet, Alaska\\'s Mount...</td>\n",
       "    </tr>\n",
       "    <tr>\n",
       "      <th>3</th>\n",
       "      <td>196611</td>\n",
       "      <td>In her first special since 2003, Ellen revisit...</td>\n",
       "    </tr>\n",
       "    <tr>\n",
       "      <th>4</th>\n",
       "      <td>196613</td>\n",
       "      <td>Mike and Sulley are back at Monsters Universit...</td>\n",
       "    </tr>\n",
       "    <tr>\n",
       "      <th>...</th>\n",
       "      <td>...</td>\n",
       "      <td>...</td>\n",
       "    </tr>\n",
       "    <tr>\n",
       "      <th>19995</th>\n",
       "      <td>56801</td>\n",
       "      <td>The iconic creatures from two of the scariest ...</td>\n",
       "    </tr>\n",
       "    <tr>\n",
       "      <th>19996</th>\n",
       "      <td>122337</td>\n",
       "      <td>When a bored-with-life English teacher meets a...</td>\n",
       "    </tr>\n",
       "    <tr>\n",
       "      <th>19997</th>\n",
       "      <td>187875</td>\n",
       "      <td>Herbert Blount is a crowdfunding contributor f...</td>\n",
       "    </tr>\n",
       "    <tr>\n",
       "      <th>19998</th>\n",
       "      <td>187873</td>\n",
       "      <td>REAL BOY is the coming-of-age story of Bennett...</td>\n",
       "    </tr>\n",
       "    <tr>\n",
       "      <th>19999</th>\n",
       "      <td>56805</td>\n",
       "      <td>Following a childhood tragedy, Dewey Cox follo...</td>\n",
       "    </tr>\n",
       "  </tbody>\n",
       "</table>\n",
       "<p>19982 rows × 2 columns</p>\n",
       "</div>"
      ],
      "text/plain": [
       "       movie_id                                              story\n",
       "0        131072  A girl who always tends to fall in love with t...\n",
       "1        196609  Bigfoot has come to the town of Ellwood City, ...\n",
       "2        131074  At an altitude of 18,000 feet, Alaska\\'s Mount...\n",
       "3        196611  In her first special since 2003, Ellen revisit...\n",
       "4        196613  Mike and Sulley are back at Monsters Universit...\n",
       "...         ...                                                ...\n",
       "19995     56801  The iconic creatures from two of the scariest ...\n",
       "19996    122337  When a bored-with-life English teacher meets a...\n",
       "19997    187875  Herbert Blount is a crowdfunding contributor f...\n",
       "19998    187873  REAL BOY is the coming-of-age story of Bennett...\n",
       "19999     56805  Following a childhood tragedy, Dewey Cox follo...\n",
       "\n",
       "[19982 rows x 2 columns]"
      ]
     },
     "execution_count": 9,
     "metadata": {},
     "output_type": "execute_result"
    }
   ],
   "source": [
    "data_movies = data_movies.drop(data_movies[(data_movies.genres == \"(no genres listed)\")].index) \n",
    "data_movies\n",
    "data_student = data_student.drop(data_student[(data_student.story == \"No overview found.\")].index)\n",
    "data_student"
   ]
  },
  {
   "cell_type": "code",
   "execution_count": 10,
   "metadata": {},
   "outputs": [
    {
     "data": {
      "text/html": [
       "<div>\n",
       "<style scoped>\n",
       "    .dataframe tbody tr th:only-of-type {\n",
       "        vertical-align: middle;\n",
       "    }\n",
       "\n",
       "    .dataframe tbody tr th {\n",
       "        vertical-align: top;\n",
       "    }\n",
       "\n",
       "    .dataframe thead th {\n",
       "        text-align: right;\n",
       "    }\n",
       "</style>\n",
       "<table border=\"1\" class=\"dataframe\">\n",
       "  <thead>\n",
       "    <tr style=\"text-align: right;\">\n",
       "      <th></th>\n",
       "      <th>movie_id</th>\n",
       "      <th>story</th>\n",
       "      <th>genres</th>\n",
       "    </tr>\n",
       "  </thead>\n",
       "  <tbody>\n",
       "    <tr>\n",
       "      <th>0</th>\n",
       "      <td>131072</td>\n",
       "      <td>A girl who always tends to fall in love with t...</td>\n",
       "      <td>Comedy</td>\n",
       "    </tr>\n",
       "    <tr>\n",
       "      <th>1</th>\n",
       "      <td>196609</td>\n",
       "      <td>Bigfoot has come to the town of Ellwood City, ...</td>\n",
       "      <td>Comedy|Horror</td>\n",
       "    </tr>\n",
       "    <tr>\n",
       "      <th>2</th>\n",
       "      <td>131074</td>\n",
       "      <td>At an altitude of 18,000 feet, Alaska\\'s Mount...</td>\n",
       "      <td>Documentary</td>\n",
       "    </tr>\n",
       "    <tr>\n",
       "      <th>3</th>\n",
       "      <td>196611</td>\n",
       "      <td>In her first special since 2003, Ellen revisit...</td>\n",
       "      <td>Comedy</td>\n",
       "    </tr>\n",
       "    <tr>\n",
       "      <th>4</th>\n",
       "      <td>196613</td>\n",
       "      <td>Mike and Sulley are back at Monsters Universit...</td>\n",
       "      <td>Animation|Children|Comedy|Fantasy</td>\n",
       "    </tr>\n",
       "    <tr>\n",
       "      <th>...</th>\n",
       "      <td>...</td>\n",
       "      <td>...</td>\n",
       "      <td>...</td>\n",
       "    </tr>\n",
       "    <tr>\n",
       "      <th>18865</th>\n",
       "      <td>56801</td>\n",
       "      <td>The iconic creatures from two of the scariest ...</td>\n",
       "      <td>Action|Horror|Sci-Fi</td>\n",
       "    </tr>\n",
       "    <tr>\n",
       "      <th>18866</th>\n",
       "      <td>122337</td>\n",
       "      <td>When a bored-with-life English teacher meets a...</td>\n",
       "      <td>Drama|Romance</td>\n",
       "    </tr>\n",
       "    <tr>\n",
       "      <th>18867</th>\n",
       "      <td>187875</td>\n",
       "      <td>Herbert Blount is a crowdfunding contributor f...</td>\n",
       "      <td>Horror</td>\n",
       "    </tr>\n",
       "    <tr>\n",
       "      <th>18868</th>\n",
       "      <td>187873</td>\n",
       "      <td>REAL BOY is the coming-of-age story of Bennett...</td>\n",
       "      <td>Documentary</td>\n",
       "    </tr>\n",
       "    <tr>\n",
       "      <th>18869</th>\n",
       "      <td>56805</td>\n",
       "      <td>Following a childhood tragedy, Dewey Cox follo...</td>\n",
       "      <td>Comedy|Musical</td>\n",
       "    </tr>\n",
       "  </tbody>\n",
       "</table>\n",
       "<p>18870 rows × 3 columns</p>\n",
       "</div>"
      ],
      "text/plain": [
       "       movie_id                                              story  \\\n",
       "0        131072  A girl who always tends to fall in love with t...   \n",
       "1        196609  Bigfoot has come to the town of Ellwood City, ...   \n",
       "2        131074  At an altitude of 18,000 feet, Alaska\\'s Mount...   \n",
       "3        196611  In her first special since 2003, Ellen revisit...   \n",
       "4        196613  Mike and Sulley are back at Monsters Universit...   \n",
       "...         ...                                                ...   \n",
       "18865     56801  The iconic creatures from two of the scariest ...   \n",
       "18866    122337  When a bored-with-life English teacher meets a...   \n",
       "18867    187875  Herbert Blount is a crowdfunding contributor f...   \n",
       "18868    187873  REAL BOY is the coming-of-age story of Bennett...   \n",
       "18869     56805  Following a childhood tragedy, Dewey Cox follo...   \n",
       "\n",
       "                                  genres  \n",
       "0                                 Comedy  \n",
       "1                          Comedy|Horror  \n",
       "2                            Documentary  \n",
       "3                                 Comedy  \n",
       "4      Animation|Children|Comedy|Fantasy  \n",
       "...                                  ...  \n",
       "18865               Action|Horror|Sci-Fi  \n",
       "18866                      Drama|Romance  \n",
       "18867                             Horror  \n",
       "18868                        Documentary  \n",
       "18869                     Comedy|Musical  \n",
       "\n",
       "[18870 rows x 3 columns]"
      ]
     },
     "execution_count": 10,
     "metadata": {},
     "output_type": "execute_result"
    }
   ],
   "source": [
    "movies= pd.merge(data_student, data_movies, how='inner', left_on = 'movie_id', right_on = 'movieId') \n",
    "#as there are two columns with movieId we can drop either one of them and the title is not required for the process \n",
    "#we can drop that column as well\n",
    "movies=movies.drop(['movieId','title'],axis=1)\n",
    "movies"
   ]
  },
  {
   "cell_type": "markdown",
   "metadata": {},
   "source": [
    "Here we have used dummies for the genre variable"
   ]
  },
  {
   "cell_type": "code",
   "execution_count": 11,
   "metadata": {},
   "outputs": [
    {
     "data": {
      "text/html": [
       "<div>\n",
       "<style scoped>\n",
       "    .dataframe tbody tr th:only-of-type {\n",
       "        vertical-align: middle;\n",
       "    }\n",
       "\n",
       "    .dataframe tbody tr th {\n",
       "        vertical-align: top;\n",
       "    }\n",
       "\n",
       "    .dataframe thead th {\n",
       "        text-align: right;\n",
       "    }\n",
       "</style>\n",
       "<table border=\"1\" class=\"dataframe\">\n",
       "  <thead>\n",
       "    <tr style=\"text-align: right;\">\n",
       "      <th></th>\n",
       "      <th>movie_id</th>\n",
       "      <th>story</th>\n",
       "      <th>genres</th>\n",
       "      <th>DramaGenre</th>\n",
       "    </tr>\n",
       "  </thead>\n",
       "  <tbody>\n",
       "    <tr>\n",
       "      <th>0</th>\n",
       "      <td>131072</td>\n",
       "      <td>A girl who always tends to fall in love with t...</td>\n",
       "      <td>Comedy</td>\n",
       "      <td>0</td>\n",
       "    </tr>\n",
       "    <tr>\n",
       "      <th>1</th>\n",
       "      <td>196609</td>\n",
       "      <td>Bigfoot has come to the town of Ellwood City, ...</td>\n",
       "      <td>Comedy|Horror</td>\n",
       "      <td>0</td>\n",
       "    </tr>\n",
       "    <tr>\n",
       "      <th>2</th>\n",
       "      <td>131074</td>\n",
       "      <td>At an altitude of 18,000 feet, Alaska\\'s Mount...</td>\n",
       "      <td>Documentary</td>\n",
       "      <td>0</td>\n",
       "    </tr>\n",
       "    <tr>\n",
       "      <th>3</th>\n",
       "      <td>196611</td>\n",
       "      <td>In her first special since 2003, Ellen revisit...</td>\n",
       "      <td>Comedy</td>\n",
       "      <td>0</td>\n",
       "    </tr>\n",
       "    <tr>\n",
       "      <th>4</th>\n",
       "      <td>196613</td>\n",
       "      <td>Mike and Sulley are back at Monsters Universit...</td>\n",
       "      <td>Animation|Children|Comedy|Fantasy</td>\n",
       "      <td>0</td>\n",
       "    </tr>\n",
       "    <tr>\n",
       "      <th>...</th>\n",
       "      <td>...</td>\n",
       "      <td>...</td>\n",
       "      <td>...</td>\n",
       "      <td>...</td>\n",
       "    </tr>\n",
       "    <tr>\n",
       "      <th>18865</th>\n",
       "      <td>56801</td>\n",
       "      <td>The iconic creatures from two of the scariest ...</td>\n",
       "      <td>Action|Horror|Sci-Fi</td>\n",
       "      <td>0</td>\n",
       "    </tr>\n",
       "    <tr>\n",
       "      <th>18866</th>\n",
       "      <td>122337</td>\n",
       "      <td>When a bored-with-life English teacher meets a...</td>\n",
       "      <td>Drama|Romance</td>\n",
       "      <td>1</td>\n",
       "    </tr>\n",
       "    <tr>\n",
       "      <th>18867</th>\n",
       "      <td>187875</td>\n",
       "      <td>Herbert Blount is a crowdfunding contributor f...</td>\n",
       "      <td>Horror</td>\n",
       "      <td>0</td>\n",
       "    </tr>\n",
       "    <tr>\n",
       "      <th>18868</th>\n",
       "      <td>187873</td>\n",
       "      <td>REAL BOY is the coming-of-age story of Bennett...</td>\n",
       "      <td>Documentary</td>\n",
       "      <td>0</td>\n",
       "    </tr>\n",
       "    <tr>\n",
       "      <th>18869</th>\n",
       "      <td>56805</td>\n",
       "      <td>Following a childhood tragedy, Dewey Cox follo...</td>\n",
       "      <td>Comedy|Musical</td>\n",
       "      <td>0</td>\n",
       "    </tr>\n",
       "  </tbody>\n",
       "</table>\n",
       "<p>18870 rows × 4 columns</p>\n",
       "</div>"
      ],
      "text/plain": [
       "       movie_id                                              story  \\\n",
       "0        131072  A girl who always tends to fall in love with t...   \n",
       "1        196609  Bigfoot has come to the town of Ellwood City, ...   \n",
       "2        131074  At an altitude of 18,000 feet, Alaska\\'s Mount...   \n",
       "3        196611  In her first special since 2003, Ellen revisit...   \n",
       "4        196613  Mike and Sulley are back at Monsters Universit...   \n",
       "...         ...                                                ...   \n",
       "18865     56801  The iconic creatures from two of the scariest ...   \n",
       "18866    122337  When a bored-with-life English teacher meets a...   \n",
       "18867    187875  Herbert Blount is a crowdfunding contributor f...   \n",
       "18868    187873  REAL BOY is the coming-of-age story of Bennett...   \n",
       "18869     56805  Following a childhood tragedy, Dewey Cox follo...   \n",
       "\n",
       "                                  genres  DramaGenre  \n",
       "0                                 Comedy           0  \n",
       "1                          Comedy|Horror           0  \n",
       "2                            Documentary           0  \n",
       "3                                 Comedy           0  \n",
       "4      Animation|Children|Comedy|Fantasy           0  \n",
       "...                                  ...         ...  \n",
       "18865               Action|Horror|Sci-Fi           0  \n",
       "18866                      Drama|Romance           1  \n",
       "18867                             Horror           0  \n",
       "18868                        Documentary           0  \n",
       "18869                     Comedy|Musical           0  \n",
       "\n",
       "[18870 rows x 4 columns]"
      ]
     },
     "execution_count": 11,
     "metadata": {},
     "output_type": "execute_result"
    }
   ],
   "source": [
    "movies['DramaGenre'] = movies['genres'].str.get_dummies()['Drama']\n",
    "movies"
   ]
  },
  {
   "cell_type": "markdown",
   "metadata": {},
   "source": [
    "Dropping the genre column"
   ]
  },
  {
   "cell_type": "code",
   "execution_count": 12,
   "metadata": {},
   "outputs": [
    {
     "data": {
      "text/html": [
       "<div>\n",
       "<style scoped>\n",
       "    .dataframe tbody tr th:only-of-type {\n",
       "        vertical-align: middle;\n",
       "    }\n",
       "\n",
       "    .dataframe tbody tr th {\n",
       "        vertical-align: top;\n",
       "    }\n",
       "\n",
       "    .dataframe thead th {\n",
       "        text-align: right;\n",
       "    }\n",
       "</style>\n",
       "<table border=\"1\" class=\"dataframe\">\n",
       "  <thead>\n",
       "    <tr style=\"text-align: right;\">\n",
       "      <th></th>\n",
       "      <th>movie_id</th>\n",
       "      <th>story</th>\n",
       "      <th>DramaGenre</th>\n",
       "    </tr>\n",
       "  </thead>\n",
       "  <tbody>\n",
       "    <tr>\n",
       "      <th>0</th>\n",
       "      <td>131072</td>\n",
       "      <td>A girl who always tends to fall in love with t...</td>\n",
       "      <td>0</td>\n",
       "    </tr>\n",
       "    <tr>\n",
       "      <th>1</th>\n",
       "      <td>196609</td>\n",
       "      <td>Bigfoot has come to the town of Ellwood City, ...</td>\n",
       "      <td>0</td>\n",
       "    </tr>\n",
       "    <tr>\n",
       "      <th>2</th>\n",
       "      <td>131074</td>\n",
       "      <td>At an altitude of 18,000 feet, Alaska\\'s Mount...</td>\n",
       "      <td>0</td>\n",
       "    </tr>\n",
       "    <tr>\n",
       "      <th>3</th>\n",
       "      <td>196611</td>\n",
       "      <td>In her first special since 2003, Ellen revisit...</td>\n",
       "      <td>0</td>\n",
       "    </tr>\n",
       "    <tr>\n",
       "      <th>4</th>\n",
       "      <td>196613</td>\n",
       "      <td>Mike and Sulley are back at Monsters Universit...</td>\n",
       "      <td>0</td>\n",
       "    </tr>\n",
       "    <tr>\n",
       "      <th>...</th>\n",
       "      <td>...</td>\n",
       "      <td>...</td>\n",
       "      <td>...</td>\n",
       "    </tr>\n",
       "    <tr>\n",
       "      <th>18865</th>\n",
       "      <td>56801</td>\n",
       "      <td>The iconic creatures from two of the scariest ...</td>\n",
       "      <td>0</td>\n",
       "    </tr>\n",
       "    <tr>\n",
       "      <th>18866</th>\n",
       "      <td>122337</td>\n",
       "      <td>When a bored-with-life English teacher meets a...</td>\n",
       "      <td>1</td>\n",
       "    </tr>\n",
       "    <tr>\n",
       "      <th>18867</th>\n",
       "      <td>187875</td>\n",
       "      <td>Herbert Blount is a crowdfunding contributor f...</td>\n",
       "      <td>0</td>\n",
       "    </tr>\n",
       "    <tr>\n",
       "      <th>18868</th>\n",
       "      <td>187873</td>\n",
       "      <td>REAL BOY is the coming-of-age story of Bennett...</td>\n",
       "      <td>0</td>\n",
       "    </tr>\n",
       "    <tr>\n",
       "      <th>18869</th>\n",
       "      <td>56805</td>\n",
       "      <td>Following a childhood tragedy, Dewey Cox follo...</td>\n",
       "      <td>0</td>\n",
       "    </tr>\n",
       "  </tbody>\n",
       "</table>\n",
       "<p>18870 rows × 3 columns</p>\n",
       "</div>"
      ],
      "text/plain": [
       "       movie_id                                              story  DramaGenre\n",
       "0        131072  A girl who always tends to fall in love with t...           0\n",
       "1        196609  Bigfoot has come to the town of Ellwood City, ...           0\n",
       "2        131074  At an altitude of 18,000 feet, Alaska\\'s Mount...           0\n",
       "3        196611  In her first special since 2003, Ellen revisit...           0\n",
       "4        196613  Mike and Sulley are back at Monsters Universit...           0\n",
       "...         ...                                                ...         ...\n",
       "18865     56801  The iconic creatures from two of the scariest ...           0\n",
       "18866    122337  When a bored-with-life English teacher meets a...           1\n",
       "18867    187875  Herbert Blount is a crowdfunding contributor f...           0\n",
       "18868    187873  REAL BOY is the coming-of-age story of Bennett...           0\n",
       "18869     56805  Following a childhood tragedy, Dewey Cox follo...           0\n",
       "\n",
       "[18870 rows x 3 columns]"
      ]
     },
     "execution_count": 12,
     "metadata": {},
     "output_type": "execute_result"
    }
   ],
   "source": [
    "main_dataset = movies.drop(columns=['genres'], axis=1)\n",
    "main_dataset\n"
   ]
  },
  {
   "cell_type": "code",
   "execution_count": 13,
   "metadata": {},
   "outputs": [
    {
     "data": {
      "text/plain": [
       "0    10467\n",
       "1     8403\n",
       "Name: DramaGenre, dtype: int64"
      ]
     },
     "execution_count": 13,
     "metadata": {},
     "output_type": "execute_result"
    }
   ],
   "source": [
    "main_dataset['DramaGenre'].value_counts()"
   ]
  },
  {
   "cell_type": "markdown",
   "metadata": {},
   "source": [
    "## DATA CLEANING and DATA VISUALIZATION\n",
    "\n",
    "The data contains lot of symbols or non-alphabets and whitespaces along with unnecessary words using regular expressions and stopwords we remove them from the data before using to train to improvise the model."
   ]
  },
  {
   "cell_type": "code",
   "execution_count": 14,
   "metadata": {},
   "outputs": [],
   "source": [
    "updated_story=main_dataset['story']\n",
    "temp=[]\n",
    "for i in updated_story:\n",
    "    i = re.sub(r\"http\\S+\", \"\", i)\n",
    "    i = re.sub(\"[^a-zA-Z]\",\" \",i) \n",
    "    i=i.lower()\n",
    "    temp.append(i)\n",
    "main_dataset['story']=temp"
   ]
  },
  {
   "cell_type": "markdown",
   "metadata": {},
   "source": [
    "### Removing stopwords"
   ]
  },
  {
   "cell_type": "code",
   "execution_count": 82,
   "metadata": {},
   "outputs": [],
   "source": [
    "import re\n",
    "from nltk.corpus import stopwords\n",
    "stop_words = set(stopwords.words('english'))\n",
    "\n",
    "j=[]\n",
    "n_s=[]\n",
    "for i in main_dataset['story']:\n",
    "    n_s = [k for k in i.split() if not k in stop_words]\n",
    "    j.append(' '.join(n_s))\n",
    "main_dataset['story']=j"
   ]
  },
  {
   "cell_type": "markdown",
   "metadata": {},
   "source": [
    "### STEMMING:\n",
    "\n",
    "It is the main approach which allow us to improve the tokenization. ***Stemming*** allows you to eliminate the **plural forms** and other forms of same word. It does it by considering the root word and eliminating the words that are similar to root word. example: <b>\"happy\"</b>, <b>\"happier\"</b>, <b>\"happiness\"</b>, and <b>\"happies\"</b> will be considered as one word "
   ]
  },
  {
   "cell_type": "code",
   "execution_count": 104,
   "metadata": {},
   "outputs": [],
   "source": [
    "#from nltk.tokenize import word_tokenize\n",
    "#stemmer = PorterStemmer()\n",
    "#t=[]\n",
    "#for text in main_dataset['story']:\n",
    "    #tokens = word_tokenize(text)\n",
    "    #t.append(\" \".join([stemmer.stem(token) for token in tokens]))\n",
    "#main_dataset['story']=t"
   ]
  },
  {
   "cell_type": "markdown",
   "metadata": {},
   "source": [
    "We tried **stemming** to train the models but the accuracy and results are better when we did Lemmatization so we skipped the stemming and opted with ***Lemmatization.***"
   ]
  },
  {
   "cell_type": "markdown",
   "metadata": {},
   "source": [
    "### Lemmatization\n",
    "Lemmatization is an approach to normalize textual documents that can take the part-of-speach into account."
   ]
  },
  {
   "cell_type": "code",
   "execution_count": 26,
   "metadata": {},
   "outputs": [],
   "source": [
    "from nltk.stem import WordNetLemmatizer\n",
    "from nltk.tokenize import word_tokenize\n",
    "\n",
    " \n",
    "L = WordNetLemmatizer()\n",
    "t2=[]\n",
    "for j in main_dataset['story']:\n",
    "    t = word_tokenize(j)\n",
    "    t2.append(\" \".join([L.lemmatize(i, pos=\"v\") for i in t]))\n",
    "main_dataset['story']=t2"
   ]
  },
  {
   "cell_type": "code",
   "execution_count": 18,
   "metadata": {},
   "outputs": [
    {
     "data": {
      "text/html": [
       "<div>\n",
       "<style scoped>\n",
       "    .dataframe tbody tr th:only-of-type {\n",
       "        vertical-align: middle;\n",
       "    }\n",
       "\n",
       "    .dataframe tbody tr th {\n",
       "        vertical-align: top;\n",
       "    }\n",
       "\n",
       "    .dataframe thead th {\n",
       "        text-align: right;\n",
       "    }\n",
       "</style>\n",
       "<table border=\"1\" class=\"dataframe\">\n",
       "  <thead>\n",
       "    <tr style=\"text-align: right;\">\n",
       "      <th></th>\n",
       "      <th>movie_id</th>\n",
       "      <th>story</th>\n",
       "      <th>DramaGenre</th>\n",
       "    </tr>\n",
       "  </thead>\n",
       "  <tbody>\n",
       "    <tr>\n",
       "      <th>0</th>\n",
       "      <td>131072</td>\n",
       "      <td>girl always tend fall love wrong guy meet one ...</td>\n",
       "      <td>0</td>\n",
       "    </tr>\n",
       "    <tr>\n",
       "      <th>1</th>\n",
       "      <td>196609</td>\n",
       "      <td>bigfoot come town ellwood city pa cause big pr...</td>\n",
       "      <td>0</td>\n",
       "    </tr>\n",
       "    <tr>\n",
       "      <th>2</th>\n",
       "      <td>131074</td>\n",
       "      <td>altitude feet alaska mount st elias destinatio...</td>\n",
       "      <td>0</td>\n",
       "    </tr>\n",
       "    <tr>\n",
       "      <th>3</th>\n",
       "      <td>196611</td>\n",
       "      <td>first special since ellen revisit road stardom...</td>\n",
       "      <td>0</td>\n",
       "    </tr>\n",
       "    <tr>\n",
       "      <th>4</th>\n",
       "      <td>196613</td>\n",
       "      <td>mike sulley back monsters university fun fill ...</td>\n",
       "      <td>0</td>\n",
       "    </tr>\n",
       "    <tr>\n",
       "      <th>...</th>\n",
       "      <td>...</td>\n",
       "      <td>...</td>\n",
       "      <td>...</td>\n",
       "    </tr>\n",
       "    <tr>\n",
       "      <th>18865</th>\n",
       "      <td>56801</td>\n",
       "      <td>iconic creatures two scariest film franchise m...</td>\n",
       "      <td>0</td>\n",
       "    </tr>\n",
       "    <tr>\n",
       "      <th>18866</th>\n",
       "      <td>122337</td>\n",
       "      <td>bore life english teacher meet west coast swin...</td>\n",
       "      <td>1</td>\n",
       "    </tr>\n",
       "    <tr>\n",
       "      <th>18867</th>\n",
       "      <td>187875</td>\n",
       "      <td>herbert blount crowdfunding contributor new ad...</td>\n",
       "      <td>0</td>\n",
       "    </tr>\n",
       "    <tr>\n",
       "      <th>18868</th>\n",
       "      <td>187873</td>\n",
       "      <td>real boy come age story bennett wallace transg...</td>\n",
       "      <td>0</td>\n",
       "    </tr>\n",
       "    <tr>\n",
       "      <th>18869</th>\n",
       "      <td>56805</td>\n",
       "      <td>follow childhood tragedy dewey cox follow long...</td>\n",
       "      <td>0</td>\n",
       "    </tr>\n",
       "  </tbody>\n",
       "</table>\n",
       "<p>18870 rows × 3 columns</p>\n",
       "</div>"
      ],
      "text/plain": [
       "       movie_id                                              story  DramaGenre\n",
       "0        131072  girl always tend fall love wrong guy meet one ...           0\n",
       "1        196609  bigfoot come town ellwood city pa cause big pr...           0\n",
       "2        131074  altitude feet alaska mount st elias destinatio...           0\n",
       "3        196611  first special since ellen revisit road stardom...           0\n",
       "4        196613  mike sulley back monsters university fun fill ...           0\n",
       "...         ...                                                ...         ...\n",
       "18865     56801  iconic creatures two scariest film franchise m...           0\n",
       "18866    122337  bore life english teacher meet west coast swin...           1\n",
       "18867    187875  herbert blount crowdfunding contributor new ad...           0\n",
       "18868    187873  real boy come age story bennett wallace transg...           0\n",
       "18869     56805  follow childhood tragedy dewey cox follow long...           0\n",
       "\n",
       "[18870 rows x 3 columns]"
      ]
     },
     "execution_count": 18,
     "metadata": {},
     "output_type": "execute_result"
    }
   ],
   "source": [
    "main_dataset"
   ]
  },
  {
   "cell_type": "markdown",
   "metadata": {},
   "source": [
    "Top **15** tokens visualization using FreqDistVisualizer"
   ]
  },
  {
   "cell_type": "code",
   "execution_count": 85,
   "metadata": {},
   "outputs": [
    {
     "data": {
      "image/png": "[encoded data removed]",
      "text/plain": [
       "<Figure size 720x720 with 1 Axes>"
      ]
     },
     "metadata": {
      "needs_background": "light"
     },
     "output_type": "display_data"
    },
    {
     "data": {
      "text/plain": [
       "<AxesSubplot:title={'center':'Frequency Distribution of Top 15 tokens'}>"
      ]
     },
     "execution_count": 85,
     "metadata": {},
     "output_type": "execute_result"
    }
   ],
   "source": [
    "from yellowbrick.text.freqdist import FreqDistVisualizer \n",
    "from sklearn.feature_extraction.text import CountVectorizer\n",
    "import matplotlib as mpl\n",
    "import matplotlib.pyplot as plt\n",
    "\n",
    "%matplotlib inline\n",
    "vect = CountVectorizer(stop_words='english')\n",
    "X = vect.fit_transform(main_dataset.story)\n",
    "\n",
    "# Get all features (tokens)\n",
    "features = vect.get_feature_names_out()\n",
    "\n",
    "# Use yellowbrick package for visualization of top 15 tokens\n",
    "fig, ax = plt.subplots(figsize=(10,10))\n",
    "visualizer = FreqDistVisualizer(features=features, n=15)\n",
    "visualizer.fit(X)\n",
    "visualizer.poof()\n",
    "\n"
   ]
  },
  {
   "cell_type": "markdown",
   "metadata": {},
   "source": [
    "#### Percentage of drama or not in the data"
   ]
  },
  {
   "cell_type": "code",
   "execution_count": 20,
   "metadata": {},
   "outputs": [
    {
     "data": {
      "text/plain": [
       "<AxesSubplot:ylabel='DramaGenre'>"
      ]
     },
     "execution_count": 20,
     "metadata": {},
     "output_type": "execute_result"
    },
    {
     "data": {
      "image/png": "[encoded data removed]",
      "text/plain": [
       "<Figure size 432x288 with 1 Axes>"
      ]
     },
     "metadata": {},
     "output_type": "display_data"
    }
   ],
   "source": [
    "%matplotlib inline\n",
    "main_dataset.DramaGenre.value_counts().plot(kind = 'pie',autopct='%1.0f%%',colors=['pink','grey'])"
   ]
  },
  {
   "cell_type": "markdown",
   "metadata": {},
   "source": [
    "### Visualizing the Wordcloud"
   ]
  },
  {
   "cell_type": "code",
   "execution_count": 27,
   "metadata": {},
   "outputs": [
    {
     "data": {
      "text/plain": [
       "array([[254, 254, 254, ..., 254, 254, 254],\n",
       "       [254, 254, 254, ..., 254, 254, 254],\n",
       "       [254, 254, 254, ..., 254, 254, 254],\n",
       "       ...,\n",
       "       [254, 254, 254, ..., 254, 254, 254],\n",
       "       [254, 254, 254, ..., 254, 254, 254],\n",
       "       [254, 254, 254, ..., 254, 254, 254]], dtype=uint8)"
      ]
     },
     "execution_count": 27,
     "metadata": {},
     "output_type": "execute_result"
    }
   ],
   "source": [
    "from os import path\n",
    "from PIL import Image\n",
    "from wordcloud import WordCloud, ImageColorGenerator\n",
    "\n",
    "import matplotlib.pyplot as plt\n",
    "%matplotlib inline\n",
    "movie_mask = np.array(Image.open(\"wordcloud.jpeg\").convert('L'))\n",
    "#movie_mask=movie_mask/255.0\n",
    "movie_mask"
   ]
  },
  {
   "cell_type": "code",
   "execution_count": 28,
   "metadata": {},
   "outputs": [],
   "source": [
    "def transform_format(val):\n",
    "    if val == 0:\n",
    "        return val\n",
    "    else:\n",
    "        return 255\n",
    "    "
   ]
  },
  {
   "cell_type": "code",
   "execution_count": 29,
   "metadata": {},
   "outputs": [
    {
     "data": {
      "text/plain": [
       "(213, 236)"
      ]
     },
     "execution_count": 29,
     "metadata": {},
     "output_type": "execute_result"
    }
   ],
   "source": [
    "movie_mask.shape"
   ]
  },
  {
   "cell_type": "code",
   "execution_count": 30,
   "metadata": {},
   "outputs": [],
   "source": [
    "transformed_movie_mask = np.ndarray((movie_mask.shape[0],\n",
    "                                    movie_mask.shape[1]), np.int32)\n",
    "\n",
    "for i in range(len(movie_mask)):\n",
    "    transformed_movie_mask[i] = list(map(transform_format, movie_mask[i]))"
   ]
  },
  {
   "cell_type": "code",
   "execution_count": 44,
   "metadata": {},
   "outputs": [
    {
     "data": {
      "image/png": "[encoded data removed]",
      "text/plain": [
       "<Figure size 1440x720 with 1 Axes>"
      ]
     },
     "metadata": {},
     "output_type": "display_data"
    }
   ],
   "source": [
    "from wordcloud import WordCloud, ImageColorGenerator\n",
    "from wordcloud import STOPWORDS\n",
    "text = \" \".join(review for review in main_dataset.story)\n",
    "stopwords = set(STOPWORDS)\n",
    "stopwords.update(['X','Xe','one','xc','xa'])\n",
    "wc = WordCloud(background_color=\"white\", max_words=1000, \n",
    "               mask=transformed_movie_mask,\n",
    "               stopwords=stopwords, contour_width=3, \n",
    "               contour_color='red')\n",
    "wc.generate(text)\n",
    "\n",
    "plt.figure(figsize=[20,10])\n",
    "plt.imshow(wc, interpolation='bilinear')\n",
    "plt.axis(\"off\");"
   ]
  },
  {
   "cell_type": "markdown",
   "metadata": {},
   "source": [
    "### CountVectorizer\n",
    "It is used to reduce the sime of Document Term Frequency Matrix.It is used to transform a given text into a vector on the basis of the frequency of each word that occurs in the entire text.\n",
    "\n",
    "***max_features:*** Build a vocabulary that only consider the top max_features ordered by term frequency across the corpus\n",
    "\n",
    "***max_df:*** When building the vocabulary ignore terms that have a document frequency strictly higher than the given threshold."
   ]
  },
  {
   "cell_type": "code",
   "execution_count": 270,
   "metadata": {},
   "outputs": [],
   "source": [
    "#vect = CountVectorizer(ngram_range=(1,3),stop_words=\"english\")\n",
    "#X=vect.fit_transform(main_dataset['story'])"
   ]
  },
  {
   "cell_type": "markdown",
   "metadata": {},
   "source": [
    "The TF-IDF works better with the dataset and we finalize the TF-IDF vectorizer instead of countVectorizer."
   ]
  },
  {
   "cell_type": "markdown",
   "metadata": {},
   "source": [
    "### TF-IDF vectorizer\n",
    "\n",
    "It assign weights to different terms is using term frequency–inverse document frequency method. The **vectorizer** takes in the text data and does both the bag-of-words feature extraction and the TF–IDF transformation\n"
   ]
  },
  {
   "cell_type": "code",
   "execution_count": 32,
   "metadata": {},
   "outputs": [],
   "source": [
    "from sklearn.feature_extraction.text import TfidfVectorizer\n",
    "s = main_dataset.story\n",
    "vect = TfidfVectorizer(ngram_range=(1,3), stop_words=\"english\")\n",
    "X = vect.fit_transform(s)"
   ]
  },
  {
   "cell_type": "code",
   "execution_count": 33,
   "metadata": {},
   "outputs": [],
   "source": [
    "y=main_dataset.DramaGenre"
   ]
  },
  {
   "cell_type": "markdown",
   "metadata": {},
   "source": [
    "Let's split the dataset into train and test sets. In this we are splitting the training set to 70 and test set to 30% using <u> train_test_split</u>"
   ]
  },
  {
   "cell_type": "code",
   "execution_count": 34,
   "metadata": {},
   "outputs": [],
   "source": [
    "X_train, X_test, y_train, y_test = train_test_split(X, y, test_size=0.3, random_state=0)"
   ]
  },
  {
   "cell_type": "markdown",
   "metadata": {},
   "source": [
    "# Algorithms used to train the data\n",
    "   1. **KNN**\n",
    "   2. **Logistic Regression**\n",
    "   3. **Random Forest**\n",
    "   4. **Neural Network with Multiple layer**\n",
    "   5. **XGBoost**\n",
    "   6. **Naive Bayes**\n",
    "   7. **SGD Classifier**"
   ]
  },
  {
   "cell_type": "markdown",
   "metadata": {},
   "source": [
    "## KNN \n",
    "\n",
    "It is known as the ***lazy classifiers.*** It is a instance-based learning. we classify the data by looking at the k-closest examples in training data we use distance metric to do the classification then, given the K-similar examples, the most popular target (majority voting) is chosen as the classification label.\n",
    "\n",
    "The two important parameter for this algorithm are:\n",
    "   1. **K** also known as neighborhood cardinaity.\n",
    "   2. **measure to evaluate the similarity** (defaults metric is Euclidean distance)"
   ]
  },
  {
   "cell_type": "code",
   "execution_count": 35,
   "metadata": {},
   "outputs": [
    {
     "name": "stdout",
     "output_type": "stream",
     "text": [
      "Best Parameter: {'n_neighbors': 5}\n",
      "Best Cross Vlidation Score: 0.6211446740858506\n"
     ]
    }
   ],
   "source": [
    "from sklearn.model_selection import GridSearchCV\n",
    "\n",
    "model1 = KNeighborsClassifier()\n",
    "\n",
    "param = {'n_neighbors': [1,2,3,4,5,6]}\n",
    "cv = StratifiedKFold(n_splits=5, random_state=0, shuffle=True)\n",
    "grid = GridSearchCV(model1, param, cv = cv, scoring='accuracy',\n",
    "                    return_train_score=True)\n",
    "grid.fit(X, y)\n",
    "\n",
    "print(\"Best Parameter: {}\".format(grid.best_params_))\n",
    "print(\"Best Cross Vlidation Score: {}\".format(grid.best_score_))"
   ]
  },
  {
   "cell_type": "code",
   "execution_count": 36,
   "metadata": {},
   "outputs": [],
   "source": [
    "model2 = KNeighborsClassifier(n_neighbors = 5) \n",
    "model2.fit(X_train, y_train)\n",
    "y_test_hat2 = model2.predict(X_test)"
   ]
  },
  {
   "cell_type": "code",
   "execution_count": 37,
   "metadata": {},
   "outputs": [
    {
     "name": "stdout",
     "output_type": "stream",
     "text": [
      "Accuracy of the model:\n",
      "62.37413884472708\n"
     ]
    }
   ],
   "source": [
    "print(\"Accuracy of the model:\")\n",
    "print(accuracy_score(y_test, y_test_hat2, normalize = True) * 100)"
   ]
  },
  {
   "cell_type": "code",
   "execution_count": 38,
   "metadata": {},
   "outputs": [
    {
     "name": "stdout",
     "output_type": "stream",
     "text": [
      "classification report for 5 neighbors\n",
      "              precision    recall  f1-score   support\n",
      "\n",
      "           0       0.65      0.70      0.67      3112\n",
      "           1       0.59      0.53      0.56      2549\n",
      "\n",
      "    accuracy                           0.62      5661\n",
      "   macro avg       0.62      0.62      0.62      5661\n",
      "weighted avg       0.62      0.62      0.62      5661\n",
      "\n"
     ]
    }
   ],
   "source": [
    "from sklearn.metrics import classification_report\n",
    "print(\"classification report for 5 neighbors\")\n",
    "print(classification_report(y_test,y_test_hat2))"
   ]
  },
  {
   "cell_type": "code",
   "execution_count": 39,
   "metadata": {},
   "outputs": [
    {
     "name": "stdout",
     "output_type": "stream",
     "text": [
      "[[2174  938]\n",
      " [1192 1357]]\n"
     ]
    },
    {
     "data": {
      "image/png": "[encoded data removed]",
      "text/plain": [
       "<Figure size 432x288 with 2 Axes>"
      ]
     },
     "metadata": {},
     "output_type": "display_data"
    }
   ],
   "source": [
    "import seaborn as sns; sns.set()\n",
    "from sklearn.metrics import confusion_matrix\n",
    "CM_KNN=confusion_matrix(y_test,y_test_hat2)\n",
    "print(CM_KNN)\n",
    "sns.heatmap(CM_KNN,annot=True,cmap='YlGnBu')\n",
    "plt.show()"
   ]
  },
  {
   "cell_type": "markdown",
   "metadata": {},
   "source": [
    "## Logistic Regression\n",
    "\n",
    "It is used to model data and to explain the relationship between one binary dependent variable(DramaGenre) and one or more quantities.\n",
    "\n"
   ]
  },
  {
   "cell_type": "code",
   "execution_count": 40,
   "metadata": {},
   "outputs": [],
   "source": [
    "model3 = LogisticRegression(C=1.5,max_iter=400)\n",
    "model3.fit(X_train, y_train)\n",
    "y_test_hat3 = model3.predict(X_test)"
   ]
  },
  {
   "cell_type": "code",
   "execution_count": 41,
   "metadata": {},
   "outputs": [
    {
     "name": "stdout",
     "output_type": "stream",
     "text": [
      "Accuracy of the model:\n",
      "67.77954425013249\n"
     ]
    }
   ],
   "source": [
    "print(\"Accuracy of the model:\")\n",
    "print(accuracy_score(y_test, y_test_hat3, normalize = True) * 100)"
   ]
  },
  {
   "cell_type": "code",
   "execution_count": 42,
   "metadata": {},
   "outputs": [
    {
     "name": "stdout",
     "output_type": "stream",
     "text": [
      "classification report for Logistic Regressions\n",
      "              precision    recall  f1-score   support\n",
      "\n",
      "           0       0.66      0.84      0.74      3112\n",
      "           1       0.71      0.48      0.57      2549\n",
      "\n",
      "    accuracy                           0.68      5661\n",
      "   macro avg       0.69      0.66      0.66      5661\n",
      "weighted avg       0.69      0.68      0.66      5661\n",
      "\n"
     ]
    }
   ],
   "source": [
    "print(\"classification report for Logistic Regressions\")\n",
    "print(classification_report(y_test,y_test_hat3))"
   ]
  },
  {
   "cell_type": "code",
   "execution_count": 266,
   "metadata": {},
   "outputs": [
    {
     "name": "stdout",
     "output_type": "stream",
     "text": [
      "[[2731  381]\n",
      " [1537 1012]]\n"
     ]
    },
    {
     "data": {
      "image/png": "[encoded data removed]",
      "text/plain": [
       "<Figure size 432x288 with 2 Axes>"
      ]
     },
     "metadata": {
      "needs_background": "light"
     },
     "output_type": "display_data"
    }
   ],
   "source": [
    "CM_LR=confusion_matrix(y_test,y_test_hat3)\n",
    "print(CM_LR)\n",
    "sns.heatmap(CM_LR,annot=True,cmap='YlGnBu')\n",
    "plt.show()"
   ]
  },
  {
   "cell_type": "markdown",
   "metadata": {},
   "source": [
    "### RANDOM FOREST\n"
   ]
  },
  {
   "cell_type": "code",
   "execution_count": 43,
   "metadata": {},
   "outputs": [
    {
     "name": "stdout",
     "output_type": "stream",
     "text": [
      "Accuracy of the model:  66.31337219572514\n"
     ]
    }
   ],
   "source": [
    "from sklearn.ensemble import RandomForestClassifier\n",
    "model4 = RandomForestClassifier()\n",
    "model4.fit(X_train,y_train)\n",
    "\n",
    "y_test_hat4 = model4.predict(X_test)\n",
    "acc = accuracy_score(y_test,y_test_hat4, normalize = True) * 100\n",
    "print(\"Accuracy of the model: \", acc)"
   ]
  },
  {
   "cell_type": "code",
   "execution_count": 45,
   "metadata": {},
   "outputs": [
    {
     "name": "stdout",
     "output_type": "stream",
     "text": [
      "classification report for Random Forest\n",
      "              precision    recall  f1-score   support\n",
      "\n",
      "           0       0.65      0.84      0.73      3112\n",
      "           1       0.70      0.44      0.54      2549\n",
      "\n",
      "    accuracy                           0.66      5661\n",
      "   macro avg       0.67      0.64      0.64      5661\n",
      "weighted avg       0.67      0.66      0.65      5661\n",
      "\n"
     ]
    }
   ],
   "source": [
    "print(\"classification report for Random Forest\")\n",
    "print(classification_report(y_test,y_test_hat4))"
   ]
  },
  {
   "cell_type": "code",
   "execution_count": 46,
   "metadata": {},
   "outputs": [
    {
     "name": "stdout",
     "output_type": "stream",
     "text": [
      "[[2625  487]\n",
      " [1337 1212]]\n"
     ]
    },
    {
     "data": {
      "image/png": "[encoded data removed]",
      "text/plain": [
       "<Figure size 432x288 with 2 Axes>"
      ]
     },
     "metadata": {},
     "output_type": "display_data"
    }
   ],
   "source": [
    "CM_RF=confusion_matrix(y_test,y_test_hat3)\n",
    "print(CM_RF)\n",
    "sns.heatmap(CM_RF,annot=True,cmap='YlGnBu')\n",
    "plt.show()"
   ]
  },
  {
   "cell_type": "markdown",
   "metadata": {},
   "source": [
    "## Neural networks\n",
    "It can be viewed as generalization of linear models that perform multiple stages of processing to make a decision. The main power of neural networks is in using large datasets.\n",
    "\n",
    "In this algorithm we use the MLP classifier with relu activation function.\n"
   ]
  },
  {
   "cell_type": "code",
   "execution_count": 47,
   "metadata": {},
   "outputs": [],
   "source": [
    "from sklearn.neural_network import MLPClassifier\n",
    "\n",
    "model5 = MLPClassifier(random_state=0,hidden_layer_sizes=[10,5],max_iter=200,activation='relu')\n",
    "model5.fit(X_train,y_train)\n",
    "y_test_hat5 = model5.predict(X_test)"
   ]
  },
  {
   "cell_type": "code",
   "execution_count": 50,
   "metadata": {},
   "outputs": [
    {
     "name": "stdout",
     "output_type": "stream",
     "text": [
      "Accuracy of the model:  69.13972796325739\n",
      "              precision    recall  f1-score   support\n",
      "\n",
      "           0       0.70      0.76      0.73      3112\n",
      "           1       0.68      0.60      0.64      2549\n",
      "\n",
      "    accuracy                           0.69      5661\n",
      "   macro avg       0.69      0.68      0.68      5661\n",
      "weighted avg       0.69      0.69      0.69      5661\n",
      "\n"
     ]
    }
   ],
   "source": [
    "Accuracy = accuracy_score(y_test,y_test_hat5, normalize = True) * 100\n",
    "print(\"Accuracy of the model: \", Accuracy)\n",
    "print(classification_report(y_test,y_test_hat5))"
   ]
  },
  {
   "cell_type": "code",
   "execution_count": 51,
   "metadata": {},
   "outputs": [
    {
     "name": "stdout",
     "output_type": "stream",
     "text": [
      "[[2378  734]\n",
      " [1013 1536]]\n"
     ]
    },
    {
     "data": {
      "image/png": "[encoded data removed]",
      "text/plain": [
       "<Figure size 432x288 with 2 Axes>"
      ]
     },
     "metadata": {},
     "output_type": "display_data"
    }
   ],
   "source": [
    "CM_NN=confusion_matrix(y_test,y_test_hat5)\n",
    "print(CM_NN)\n",
    "sns.heatmap(CM_NN,annot=True,cmap='YlGnBu')\n",
    "plt.show()\n"
   ]
  },
  {
   "cell_type": "markdown",
   "metadata": {},
   "source": [
    "### XGBoost"
   ]
  },
  {
   "cell_type": "code",
   "execution_count": 46,
   "metadata": {},
   "outputs": [
    {
     "name": "stdout",
     "output_type": "stream",
     "text": [
      "Collecting xgboostNote: you may need to restart the kernel to use updated packages.\n",
      "  Downloading xgboost-1.7.1-py3-none-win_amd64.whl (89.1 MB)\n",
      "     ---------------------------------------- 89.1/89.1 MB 9.9 MB/s eta 0:00:00\n",
      "Requirement already satisfied: scipy in c:\\users\\bhanu\\anaconda3\\lib\\site-packages (from xgboost) (1.6.2)\n",
      "Requirement already satisfied: numpy in c:\\users\\bhanu\\anaconda3\\lib\\site-packages (from xgboost) (1.20.1)\n",
      "Installing collected packages: xgboost\n",
      "Successfully installed xgboost-1.7.1\n",
      "\n"
     ]
    },
    {
     "name": "stderr",
     "output_type": "stream",
     "text": [
      "WARNING: Ignoring invalid distribution -atplotlib (c:\\users\\bhanu\\anaconda3\\lib\\site-packages)\n",
      "WARNING: Ignoring invalid distribution -atplotlib (c:\\users\\bhanu\\anaconda3\\lib\\site-packages)\n",
      "WARNING: Ignoring invalid distribution -atplotlib (c:\\users\\bhanu\\anaconda3\\lib\\site-packages)\n",
      "WARNING: Ignoring invalid distribution -atplotlib (c:\\users\\bhanu\\anaconda3\\lib\\site-packages)\n",
      "WARNING: Ignoring invalid distribution -atplotlib (c:\\users\\bhanu\\anaconda3\\lib\\site-packages)\n",
      "WARNING: Ignoring invalid distribution -atplotlib (c:\\users\\bhanu\\anaconda3\\lib\\site-packages)\n",
      "WARNING: Ignoring invalid distribution -atplotlib (c:\\users\\bhanu\\anaconda3\\lib\\site-packages)\n"
     ]
    }
   ],
   "source": [
    "#pip install xgboost"
   ]
  },
  {
   "cell_type": "code",
   "execution_count": 52,
   "metadata": {},
   "outputs": [
    {
     "data": {
      "text/plain": [
       "XGBClassifier(base_score=0.5, booster='gbtree', callbacks=None,\n",
       "              colsample_bylevel=1, colsample_bynode=1, colsample_bytree=1,\n",
       "              early_stopping_rounds=None, enable_categorical=False,\n",
       "              eval_metric=None, feature_types=None, gamma=0, gpu_id=-1,\n",
       "              grow_policy='depthwise', importance_type=None,\n",
       "              interaction_constraints='', learning_rate=0.300000012,\n",
       "              max_bin=256, max_cat_threshold=64, max_cat_to_onehot=4,\n",
       "              max_delta_step=0, max_depth=6, max_leaves=0, min_child_weight=1,\n",
       "              missing=nan, monotone_constraints='()', n_estimators=100,\n",
       "              n_jobs=0, num_parallel_tree=1, predictor='auto', random_state=0, ...)"
      ]
     },
     "execution_count": 52,
     "metadata": {},
     "output_type": "execute_result"
    }
   ],
   "source": [
    "import xgboost as xgb\n",
    "model6 = xgb.XGBClassifier()\n",
    "model6.fit(X_train, y_train)\n"
   ]
  },
  {
   "cell_type": "code",
   "execution_count": 53,
   "metadata": {},
   "outputs": [
    {
     "name": "stdout",
     "output_type": "stream",
     "text": [
      "Accuracy of the model:  67.83253842077372\n",
      "              precision    recall  f1-score   support\n",
      "\n",
      "           0       0.69      0.76      0.72      3112\n",
      "           1       0.66      0.58      0.62      2549\n",
      "\n",
      "    accuracy                           0.68      5661\n",
      "   macro avg       0.68      0.67      0.67      5661\n",
      "weighted avg       0.68      0.68      0.68      5661\n",
      "\n"
     ]
    }
   ],
   "source": [
    "y_test_hat6 = model6.predict(X_test)\n",
    "Accuracy = accuracy_score(y_test,y_test_hat6, normalize = True) * 100\n",
    "print(\"Accuracy of the model: \", Accuracy)\n",
    "print(classification_report(y_test,y_test_hat6))"
   ]
  },
  {
   "cell_type": "code",
   "execution_count": 54,
   "metadata": {},
   "outputs": [
    {
     "name": "stdout",
     "output_type": "stream",
     "text": [
      "[[2364  748]\n",
      " [1073 1476]]\n"
     ]
    },
    {
     "data": {
      "image/png": "[encoded data removed]",
      "text/plain": [
       "<Figure size 432x288 with 2 Axes>"
      ]
     },
     "metadata": {},
     "output_type": "display_data"
    }
   ],
   "source": [
    "CM_XG=confusion_matrix(y_test,y_test_hat6)\n",
    "print(CM_XG)\n",
    "sns.heatmap(CM_XG,annot=True,cmap='YlGnBu')\n",
    "plt.show()\n"
   ]
  },
  {
   "cell_type": "markdown",
   "metadata": {},
   "source": [
    "## NAIVE BAYES\n",
    "It is a fast and simple **classification** algorithm suitable for **high-dimensional datasets**. In Bayesian classification, we’re interested in finding the probability of a label given some observed features. ***Naive Bayes models*** are usually consider as baseline model for a classification problem.\n",
    "\n",
    "<li><b>Multinomial Naive Bayes</b> - The main assumption is that features are generated from a simple multinomial distribution.multinomial naive Bayes is often used is in <b>text classification,</b> where the features are related to word counts or frequencies within the documents to be classified.</li>"
   ]
  },
  {
   "cell_type": "code",
   "execution_count": 55,
   "metadata": {},
   "outputs": [],
   "source": [
    "model7= MultinomialNB()\n",
    "model7.fit(X_train,y_train)\n",
    "y_test_hat7 = model7.predict(X_test)"
   ]
  },
  {
   "cell_type": "code",
   "execution_count": 56,
   "metadata": {},
   "outputs": [
    {
     "name": "stdout",
     "output_type": "stream",
     "text": [
      "Accuracy of the model:  60.16604840134252\n",
      "              precision    recall  f1-score   support\n",
      "\n",
      "           0       0.58      0.98      0.73      3112\n",
      "           1       0.84      0.14      0.24      2549\n",
      "\n",
      "    accuracy                           0.60      5661\n",
      "   macro avg       0.71      0.56      0.49      5661\n",
      "weighted avg       0.70      0.60      0.51      5661\n",
      "\n"
     ]
    }
   ],
   "source": [
    "Accuracy = accuracy_score(y_test,y_test_hat7, normalize = True) * 100\n",
    "print(\"Accuracy of the model: \", Accuracy)\n",
    "print(classification_report(y_test,y_test_hat7))"
   ]
  },
  {
   "cell_type": "code",
   "execution_count": 57,
   "metadata": {},
   "outputs": [
    {
     "name": "stdout",
     "output_type": "stream",
     "text": [
      "[[3041   71]\n",
      " [2184  365]]\n"
     ]
    },
    {
     "data": {
      "image/png": "[encoded data removed]",
      "text/plain": [
       "<Figure size 432x288 with 2 Axes>"
      ]
     },
     "metadata": {},
     "output_type": "display_data"
    }
   ],
   "source": [
    "CM_MN=confusion_matrix(y_test,y_test_hat7)\n",
    "print(CM_MN)\n",
    "sns.heatmap(CM_MN,annot=True,cmap='YlGnBu')\n",
    "plt.show()"
   ]
  },
  {
   "cell_type": "markdown",
   "metadata": {},
   "source": [
    "### SGDClassifier  (Stochastic Gradient Descent)"
   ]
  },
  {
   "cell_type": "code",
   "execution_count": 58,
   "metadata": {},
   "outputs": [
    {
     "name": "stdout",
     "output_type": "stream",
     "text": [
      "Accuracy for SGDClassifier:  68.23882706235648\n"
     ]
    }
   ],
   "source": [
    "from sklearn.linear_model import SGDClassifier\n",
    "model8 = SGDClassifier()\n",
    "model8.fit(X_train, y_train)\n",
    "y_test_hat8 = model8.predict(X_test)\n",
    "print(\"Accuracy for SGDClassifier: \",accuracy_score(y_test,y_test_hat8) * 100)"
   ]
  },
  {
   "cell_type": "code",
   "execution_count": 275,
   "metadata": {},
   "outputs": [
    {
     "name": "stdout",
     "output_type": "stream",
     "text": [
      "classification report for SGD\n",
      "              precision    recall  f1-score   support\n",
      "\n",
      "           0       0.67      0.82      0.74      3112\n",
      "           1       0.70      0.51      0.59      2549\n",
      "\n",
      "    accuracy                           0.68      5661\n",
      "   macro avg       0.69      0.67      0.67      5661\n",
      "weighted avg       0.69      0.68      0.67      5661\n",
      "\n"
     ]
    }
   ],
   "source": [
    "print(\"classification report for SGD\")\n",
    "print(classification_report(y_test,y_test_hat8))"
   ]
  },
  {
   "cell_type": "code",
   "execution_count": 276,
   "metadata": {},
   "outputs": [
    {
     "name": "stdout",
     "output_type": "stream",
     "text": [
      "[[2560  552]\n",
      " [1242 1307]]\n"
     ]
    },
    {
     "data": {
      "image/png": "[encoded data removed]",
      "text/plain": [
       "<Figure size 432x288 with 2 Axes>"
      ]
     },
     "metadata": {
      "needs_background": "light"
     },
     "output_type": "display_data"
    }
   ],
   "source": [
    "CM_SG=confusion_matrix(y_test,y_test_hat8)\n",
    "print(CM_SG)\n",
    "sns.heatmap(CM_SG,annot=True,cmap='YlGnBu')\n",
    "plt.show()"
   ]
  },
  {
   "cell_type": "code",
   "execution_count": 59,
   "metadata": {},
   "outputs": [
    {
     "data": {
      "text/plain": [
       "<AxesSubplot:>"
      ]
     },
     "execution_count": 59,
     "metadata": {},
     "output_type": "execute_result"
    },
    {
     "data": {
      "image/png": "[encoded data removed]",
      "text/plain": [
       "<Figure size 432x288 with 1 Axes>"
      ]
     },
     "metadata": {},
     "output_type": "display_data"
    }
   ],
   "source": [
    "df = pd.DataFrame({\n",
    "    'KNN': [62.37],'Logistic':[67.77],'Random':[66.31],'Neural':[69.13],'XGBoost':[67.83],'Naive':[60.16],'SG':[68.23]})\n",
    "df.plot(kind='bar')"
   ]
  },
  {
   "cell_type": "markdown",
   "metadata": {},
   "source": [
    "Based on the accuracy we select the ***Neural Network*** as the best model and train the model using full dataset"
   ]
  },
  {
   "cell_type": "code",
   "execution_count": 60,
   "metadata": {},
   "outputs": [],
   "source": [
    "selected_model = MLPClassifier(random_state=0,hidden_layer_sizes=[10,5],max_iter=200,activation='relu')\n",
    "selected_model.fit(X,y)\n",
    "y_test_hat = selected_model.predict(X)\n",
    "\n"
   ]
  },
  {
   "cell_type": "code",
   "execution_count": 61,
   "metadata": {},
   "outputs": [
    {
     "name": "stdout",
     "output_type": "stream",
     "text": [
      "Accuracy of the Best model:  99.97880233174351\n",
      "              precision    recall  f1-score   support\n",
      "\n",
      "           0       1.00      1.00      1.00     10467\n",
      "           1       1.00      1.00      1.00      8403\n",
      "\n",
      "    accuracy                           1.00     18870\n",
      "   macro avg       1.00      1.00      1.00     18870\n",
      "weighted avg       1.00      1.00      1.00     18870\n",
      "\n"
     ]
    }
   ],
   "source": [
    "Accuracy = accuracy_score(y,y_test_hat, normalize = True) * 100\n",
    "print(\"Accuracy of the Best model: \", Accuracy)\n",
    "print(classification_report(y,y_test_hat))"
   ]
  },
  {
   "cell_type": "markdown",
   "metadata": {},
   "source": [
    "Using the same preprocessing steps as the previous dataset we prepare the data for evaluating/"
   ]
  },
  {
   "cell_type": "code",
   "execution_count": 62,
   "metadata": {},
   "outputs": [
    {
     "data": {
      "text/html": [
       "<div>\n",
       "<style scoped>\n",
       "    .dataframe tbody tr th:only-of-type {\n",
       "        vertical-align: middle;\n",
       "    }\n",
       "\n",
       "    .dataframe tbody tr th {\n",
       "        vertical-align: top;\n",
       "    }\n",
       "\n",
       "    .dataframe thead th {\n",
       "        text-align: right;\n",
       "    }\n",
       "</style>\n",
       "<table border=\"1\" class=\"dataframe\">\n",
       "  <thead>\n",
       "    <tr style=\"text-align: right;\">\n",
       "      <th></th>\n",
       "      <th>movie_id</th>\n",
       "      <th>story</th>\n",
       "      <th>genres</th>\n",
       "    </tr>\n",
       "  </thead>\n",
       "  <tbody>\n",
       "    <tr>\n",
       "      <th>0</th>\n",
       "      <td>122349</td>\n",
       "      <td>Growing up in the Mission district of San Fran...</td>\n",
       "      <td>Drama</td>\n",
       "    </tr>\n",
       "    <tr>\n",
       "      <th>1</th>\n",
       "      <td>122351</td>\n",
       "      <td>A soldier returns home from the Iraq war only ...</td>\n",
       "      <td>Horror|Thriller</td>\n",
       "    </tr>\n",
       "    <tr>\n",
       "      <th>2</th>\n",
       "      <td>122361</td>\n",
       "      <td>Marco the Monkey works as a beach officer. But...</td>\n",
       "      <td>Animation|Children|Comedy</td>\n",
       "    </tr>\n",
       "    <tr>\n",
       "      <th>3</th>\n",
       "      <td>187901</td>\n",
       "      <td>When an honest cop, Vijay Kumar\\'s family is r...</td>\n",
       "      <td>Action|Romance</td>\n",
       "    </tr>\n",
       "    <tr>\n",
       "      <th>4</th>\n",
       "      <td>187903</td>\n",
       "      <td>Kathiresan aka Kaththi, a criminal, escapes fr...</td>\n",
       "      <td>Action|Drama|Romance</td>\n",
       "    </tr>\n",
       "    <tr>\n",
       "      <th>...</th>\n",
       "      <td>...</td>\n",
       "      <td>...</td>\n",
       "      <td>...</td>\n",
       "    </tr>\n",
       "    <tr>\n",
       "      <th>3297</th>\n",
       "      <td>131062</td>\n",
       "      <td>In the middle of nowhere, 20 years after an ap...</td>\n",
       "      <td>Drama|Fantasy|Sci-Fi</td>\n",
       "    </tr>\n",
       "    <tr>\n",
       "      <th>3298</th>\n",
       "      <td>131064</td>\n",
       "      <td>After living for years as a struggling artist ...</td>\n",
       "      <td>Comedy</td>\n",
       "    </tr>\n",
       "    <tr>\n",
       "      <th>3299</th>\n",
       "      <td>131066</td>\n",
       "      <td>Ronal is a young barbarian with low self-estee...</td>\n",
       "      <td>Adventure|Animation|Fantasy</td>\n",
       "    </tr>\n",
       "    <tr>\n",
       "      <th>3300</th>\n",
       "      <td>131068</td>\n",
       "      <td>Ziege, H\\xc3\\xa4schen and Max have now moved t...</td>\n",
       "      <td>Comedy</td>\n",
       "    </tr>\n",
       "    <tr>\n",
       "      <th>3301</th>\n",
       "      <td>131070</td>\n",
       "      <td>During their childhood, Hanna and Clarissa wer...</td>\n",
       "      <td>Drama|Mystery|Thriller</td>\n",
       "    </tr>\n",
       "  </tbody>\n",
       "</table>\n",
       "<p>3302 rows × 3 columns</p>\n",
       "</div>"
      ],
      "text/plain": [
       "      movie_id                                              story  \\\n",
       "0       122349  Growing up in the Mission district of San Fran...   \n",
       "1       122351  A soldier returns home from the Iraq war only ...   \n",
       "2       122361  Marco the Monkey works as a beach officer. But...   \n",
       "3       187901  When an honest cop, Vijay Kumar\\'s family is r...   \n",
       "4       187903  Kathiresan aka Kaththi, a criminal, escapes fr...   \n",
       "...        ...                                                ...   \n",
       "3297    131062  In the middle of nowhere, 20 years after an ap...   \n",
       "3298    131064  After living for years as a struggling artist ...   \n",
       "3299    131066  Ronal is a young barbarian with low self-estee...   \n",
       "3300    131068  Ziege, H\\xc3\\xa4schen and Max have now moved t...   \n",
       "3301    131070  During their childhood, Hanna and Clarissa wer...   \n",
       "\n",
       "                           genres  \n",
       "0                           Drama  \n",
       "1                 Horror|Thriller  \n",
       "2       Animation|Children|Comedy  \n",
       "3                  Action|Romance  \n",
       "4            Action|Drama|Romance  \n",
       "...                           ...  \n",
       "3297         Drama|Fantasy|Sci-Fi  \n",
       "3298                       Comedy  \n",
       "3299  Adventure|Animation|Fantasy  \n",
       "3300                       Comedy  \n",
       "3301       Drama|Mystery|Thriller  \n",
       "\n",
       "[3302 rows x 3 columns]"
      ]
     },
     "execution_count": 62,
     "metadata": {},
     "output_type": "execute_result"
    }
   ],
   "source": [
    "data_evaluation\n",
    "data= pd.merge(data_evaluation, data_movies, how='inner', left_on = 'movie_id', right_on = 'movieId') \n",
    "#as there are two columns with movieId we can drop either one of them and the title is not required for the process \n",
    "#we can drop that column as well\n",
    "data=data.drop(['movieId','title'],axis=1)\n",
    "data"
   ]
  },
  {
   "cell_type": "code",
   "execution_count": 63,
   "metadata": {},
   "outputs": [
    {
     "data": {
      "text/html": [
       "<div>\n",
       "<style scoped>\n",
       "    .dataframe tbody tr th:only-of-type {\n",
       "        vertical-align: middle;\n",
       "    }\n",
       "\n",
       "    .dataframe tbody tr th {\n",
       "        vertical-align: top;\n",
       "    }\n",
       "\n",
       "    .dataframe thead th {\n",
       "        text-align: right;\n",
       "    }\n",
       "</style>\n",
       "<table border=\"1\" class=\"dataframe\">\n",
       "  <thead>\n",
       "    <tr style=\"text-align: right;\">\n",
       "      <th></th>\n",
       "      <th>movie_id</th>\n",
       "      <th>story</th>\n",
       "      <th>genres</th>\n",
       "    </tr>\n",
       "  </thead>\n",
       "  <tbody>\n",
       "    <tr>\n",
       "      <th>0</th>\n",
       "      <td>122349</td>\n",
       "      <td>Growing up in the Mission district of San Fran...</td>\n",
       "      <td>Drama</td>\n",
       "    </tr>\n",
       "    <tr>\n",
       "      <th>1</th>\n",
       "      <td>122351</td>\n",
       "      <td>A soldier returns home from the Iraq war only ...</td>\n",
       "      <td>Horror|Thriller</td>\n",
       "    </tr>\n",
       "    <tr>\n",
       "      <th>2</th>\n",
       "      <td>122361</td>\n",
       "      <td>Marco the Monkey works as a beach officer. But...</td>\n",
       "      <td>Animation|Children|Comedy</td>\n",
       "    </tr>\n",
       "    <tr>\n",
       "      <th>3</th>\n",
       "      <td>187901</td>\n",
       "      <td>When an honest cop, Vijay Kumar\\'s family is r...</td>\n",
       "      <td>Action|Romance</td>\n",
       "    </tr>\n",
       "    <tr>\n",
       "      <th>4</th>\n",
       "      <td>187903</td>\n",
       "      <td>Kathiresan aka Kaththi, a criminal, escapes fr...</td>\n",
       "      <td>Action|Drama|Romance</td>\n",
       "    </tr>\n",
       "    <tr>\n",
       "      <th>...</th>\n",
       "      <td>...</td>\n",
       "      <td>...</td>\n",
       "      <td>...</td>\n",
       "    </tr>\n",
       "    <tr>\n",
       "      <th>3297</th>\n",
       "      <td>131062</td>\n",
       "      <td>In the middle of nowhere, 20 years after an ap...</td>\n",
       "      <td>Drama|Fantasy|Sci-Fi</td>\n",
       "    </tr>\n",
       "    <tr>\n",
       "      <th>3298</th>\n",
       "      <td>131064</td>\n",
       "      <td>After living for years as a struggling artist ...</td>\n",
       "      <td>Comedy</td>\n",
       "    </tr>\n",
       "    <tr>\n",
       "      <th>3299</th>\n",
       "      <td>131066</td>\n",
       "      <td>Ronal is a young barbarian with low self-estee...</td>\n",
       "      <td>Adventure|Animation|Fantasy</td>\n",
       "    </tr>\n",
       "    <tr>\n",
       "      <th>3300</th>\n",
       "      <td>131068</td>\n",
       "      <td>Ziege, H\\xc3\\xa4schen and Max have now moved t...</td>\n",
       "      <td>Comedy</td>\n",
       "    </tr>\n",
       "    <tr>\n",
       "      <th>3301</th>\n",
       "      <td>131070</td>\n",
       "      <td>During their childhood, Hanna and Clarissa wer...</td>\n",
       "      <td>Drama|Mystery|Thriller</td>\n",
       "    </tr>\n",
       "  </tbody>\n",
       "</table>\n",
       "<p>3302 rows × 3 columns</p>\n",
       "</div>"
      ],
      "text/plain": [
       "      movie_id                                              story  \\\n",
       "0       122349  Growing up in the Mission district of San Fran...   \n",
       "1       122351  A soldier returns home from the Iraq war only ...   \n",
       "2       122361  Marco the Monkey works as a beach officer. But...   \n",
       "3       187901  When an honest cop, Vijay Kumar\\'s family is r...   \n",
       "4       187903  Kathiresan aka Kaththi, a criminal, escapes fr...   \n",
       "...        ...                                                ...   \n",
       "3297    131062  In the middle of nowhere, 20 years after an ap...   \n",
       "3298    131064  After living for years as a struggling artist ...   \n",
       "3299    131066  Ronal is a young barbarian with low self-estee...   \n",
       "3300    131068  Ziege, H\\xc3\\xa4schen and Max have now moved t...   \n",
       "3301    131070  During their childhood, Hanna and Clarissa wer...   \n",
       "\n",
       "                           genres  \n",
       "0                           Drama  \n",
       "1                 Horror|Thriller  \n",
       "2       Animation|Children|Comedy  \n",
       "3                  Action|Romance  \n",
       "4            Action|Drama|Romance  \n",
       "...                           ...  \n",
       "3297         Drama|Fantasy|Sci-Fi  \n",
       "3298                       Comedy  \n",
       "3299  Adventure|Animation|Fantasy  \n",
       "3300                       Comedy  \n",
       "3301       Drama|Mystery|Thriller  \n",
       "\n",
       "[3302 rows x 3 columns]"
      ]
     },
     "execution_count": 63,
     "metadata": {},
     "output_type": "execute_result"
    }
   ],
   "source": [
    "data = data.drop(data[(data.genres == \"(no genres listed)\")].index) \n",
    "data\n",
    "data = data.drop(data[(data.story == \"No overview found.\")].index)\n",
    "data"
   ]
  },
  {
   "cell_type": "code",
   "execution_count": 64,
   "metadata": {},
   "outputs": [
    {
     "data": {
      "text/html": [
       "<div>\n",
       "<style scoped>\n",
       "    .dataframe tbody tr th:only-of-type {\n",
       "        vertical-align: middle;\n",
       "    }\n",
       "\n",
       "    .dataframe tbody tr th {\n",
       "        vertical-align: top;\n",
       "    }\n",
       "\n",
       "    .dataframe thead th {\n",
       "        text-align: right;\n",
       "    }\n",
       "</style>\n",
       "<table border=\"1\" class=\"dataframe\">\n",
       "  <thead>\n",
       "    <tr style=\"text-align: right;\">\n",
       "      <th></th>\n",
       "      <th>movie_id</th>\n",
       "      <th>story</th>\n",
       "      <th>genres</th>\n",
       "      <th>DramaGenre</th>\n",
       "    </tr>\n",
       "  </thead>\n",
       "  <tbody>\n",
       "    <tr>\n",
       "      <th>0</th>\n",
       "      <td>122349</td>\n",
       "      <td>Growing up in the Mission district of San Fran...</td>\n",
       "      <td>Drama</td>\n",
       "      <td>1</td>\n",
       "    </tr>\n",
       "    <tr>\n",
       "      <th>1</th>\n",
       "      <td>122351</td>\n",
       "      <td>A soldier returns home from the Iraq war only ...</td>\n",
       "      <td>Horror|Thriller</td>\n",
       "      <td>0</td>\n",
       "    </tr>\n",
       "    <tr>\n",
       "      <th>2</th>\n",
       "      <td>122361</td>\n",
       "      <td>Marco the Monkey works as a beach officer. But...</td>\n",
       "      <td>Animation|Children|Comedy</td>\n",
       "      <td>0</td>\n",
       "    </tr>\n",
       "    <tr>\n",
       "      <th>3</th>\n",
       "      <td>187901</td>\n",
       "      <td>When an honest cop, Vijay Kumar\\'s family is r...</td>\n",
       "      <td>Action|Romance</td>\n",
       "      <td>0</td>\n",
       "    </tr>\n",
       "    <tr>\n",
       "      <th>4</th>\n",
       "      <td>187903</td>\n",
       "      <td>Kathiresan aka Kaththi, a criminal, escapes fr...</td>\n",
       "      <td>Action|Drama|Romance</td>\n",
       "      <td>1</td>\n",
       "    </tr>\n",
       "    <tr>\n",
       "      <th>...</th>\n",
       "      <td>...</td>\n",
       "      <td>...</td>\n",
       "      <td>...</td>\n",
       "      <td>...</td>\n",
       "    </tr>\n",
       "    <tr>\n",
       "      <th>3297</th>\n",
       "      <td>131062</td>\n",
       "      <td>In the middle of nowhere, 20 years after an ap...</td>\n",
       "      <td>Drama|Fantasy|Sci-Fi</td>\n",
       "      <td>1</td>\n",
       "    </tr>\n",
       "    <tr>\n",
       "      <th>3298</th>\n",
       "      <td>131064</td>\n",
       "      <td>After living for years as a struggling artist ...</td>\n",
       "      <td>Comedy</td>\n",
       "      <td>0</td>\n",
       "    </tr>\n",
       "    <tr>\n",
       "      <th>3299</th>\n",
       "      <td>131066</td>\n",
       "      <td>Ronal is a young barbarian with low self-estee...</td>\n",
       "      <td>Adventure|Animation|Fantasy</td>\n",
       "      <td>0</td>\n",
       "    </tr>\n",
       "    <tr>\n",
       "      <th>3300</th>\n",
       "      <td>131068</td>\n",
       "      <td>Ziege, H\\xc3\\xa4schen and Max have now moved t...</td>\n",
       "      <td>Comedy</td>\n",
       "      <td>0</td>\n",
       "    </tr>\n",
       "    <tr>\n",
       "      <th>3301</th>\n",
       "      <td>131070</td>\n",
       "      <td>During their childhood, Hanna and Clarissa wer...</td>\n",
       "      <td>Drama|Mystery|Thriller</td>\n",
       "      <td>1</td>\n",
       "    </tr>\n",
       "  </tbody>\n",
       "</table>\n",
       "<p>3302 rows × 4 columns</p>\n",
       "</div>"
      ],
      "text/plain": [
       "      movie_id                                              story  \\\n",
       "0       122349  Growing up in the Mission district of San Fran...   \n",
       "1       122351  A soldier returns home from the Iraq war only ...   \n",
       "2       122361  Marco the Monkey works as a beach officer. But...   \n",
       "3       187901  When an honest cop, Vijay Kumar\\'s family is r...   \n",
       "4       187903  Kathiresan aka Kaththi, a criminal, escapes fr...   \n",
       "...        ...                                                ...   \n",
       "3297    131062  In the middle of nowhere, 20 years after an ap...   \n",
       "3298    131064  After living for years as a struggling artist ...   \n",
       "3299    131066  Ronal is a young barbarian with low self-estee...   \n",
       "3300    131068  Ziege, H\\xc3\\xa4schen and Max have now moved t...   \n",
       "3301    131070  During their childhood, Hanna and Clarissa wer...   \n",
       "\n",
       "                           genres  DramaGenre  \n",
       "0                           Drama           1  \n",
       "1                 Horror|Thriller           0  \n",
       "2       Animation|Children|Comedy           0  \n",
       "3                  Action|Romance           0  \n",
       "4            Action|Drama|Romance           1  \n",
       "...                           ...         ...  \n",
       "3297         Drama|Fantasy|Sci-Fi           1  \n",
       "3298                       Comedy           0  \n",
       "3299  Adventure|Animation|Fantasy           0  \n",
       "3300                       Comedy           0  \n",
       "3301       Drama|Mystery|Thriller           1  \n",
       "\n",
       "[3302 rows x 4 columns]"
      ]
     },
     "execution_count": 64,
     "metadata": {},
     "output_type": "execute_result"
    }
   ],
   "source": [
    "data['DramaGenre'] = data['genres'].str.get_dummies()['Drama']\n",
    "data"
   ]
  },
  {
   "cell_type": "code",
   "execution_count": 65,
   "metadata": {},
   "outputs": [
    {
     "data": {
      "text/html": [
       "<div>\n",
       "<style scoped>\n",
       "    .dataframe tbody tr th:only-of-type {\n",
       "        vertical-align: middle;\n",
       "    }\n",
       "\n",
       "    .dataframe tbody tr th {\n",
       "        vertical-align: top;\n",
       "    }\n",
       "\n",
       "    .dataframe thead th {\n",
       "        text-align: right;\n",
       "    }\n",
       "</style>\n",
       "<table border=\"1\" class=\"dataframe\">\n",
       "  <thead>\n",
       "    <tr style=\"text-align: right;\">\n",
       "      <th></th>\n",
       "      <th>movie_id</th>\n",
       "      <th>story</th>\n",
       "      <th>DramaGenre</th>\n",
       "    </tr>\n",
       "  </thead>\n",
       "  <tbody>\n",
       "    <tr>\n",
       "      <th>0</th>\n",
       "      <td>122349</td>\n",
       "      <td>Growing up in the Mission district of San Fran...</td>\n",
       "      <td>1</td>\n",
       "    </tr>\n",
       "    <tr>\n",
       "      <th>1</th>\n",
       "      <td>122351</td>\n",
       "      <td>A soldier returns home from the Iraq war only ...</td>\n",
       "      <td>0</td>\n",
       "    </tr>\n",
       "    <tr>\n",
       "      <th>2</th>\n",
       "      <td>122361</td>\n",
       "      <td>Marco the Monkey works as a beach officer. But...</td>\n",
       "      <td>0</td>\n",
       "    </tr>\n",
       "    <tr>\n",
       "      <th>3</th>\n",
       "      <td>187901</td>\n",
       "      <td>When an honest cop, Vijay Kumar\\'s family is r...</td>\n",
       "      <td>0</td>\n",
       "    </tr>\n",
       "    <tr>\n",
       "      <th>4</th>\n",
       "      <td>187903</td>\n",
       "      <td>Kathiresan aka Kaththi, a criminal, escapes fr...</td>\n",
       "      <td>1</td>\n",
       "    </tr>\n",
       "    <tr>\n",
       "      <th>...</th>\n",
       "      <td>...</td>\n",
       "      <td>...</td>\n",
       "      <td>...</td>\n",
       "    </tr>\n",
       "    <tr>\n",
       "      <th>3297</th>\n",
       "      <td>131062</td>\n",
       "      <td>In the middle of nowhere, 20 years after an ap...</td>\n",
       "      <td>1</td>\n",
       "    </tr>\n",
       "    <tr>\n",
       "      <th>3298</th>\n",
       "      <td>131064</td>\n",
       "      <td>After living for years as a struggling artist ...</td>\n",
       "      <td>0</td>\n",
       "    </tr>\n",
       "    <tr>\n",
       "      <th>3299</th>\n",
       "      <td>131066</td>\n",
       "      <td>Ronal is a young barbarian with low self-estee...</td>\n",
       "      <td>0</td>\n",
       "    </tr>\n",
       "    <tr>\n",
       "      <th>3300</th>\n",
       "      <td>131068</td>\n",
       "      <td>Ziege, H\\xc3\\xa4schen and Max have now moved t...</td>\n",
       "      <td>0</td>\n",
       "    </tr>\n",
       "    <tr>\n",
       "      <th>3301</th>\n",
       "      <td>131070</td>\n",
       "      <td>During their childhood, Hanna and Clarissa wer...</td>\n",
       "      <td>1</td>\n",
       "    </tr>\n",
       "  </tbody>\n",
       "</table>\n",
       "<p>3302 rows × 3 columns</p>\n",
       "</div>"
      ],
      "text/plain": [
       "      movie_id                                              story  DramaGenre\n",
       "0       122349  Growing up in the Mission district of San Fran...           1\n",
       "1       122351  A soldier returns home from the Iraq war only ...           0\n",
       "2       122361  Marco the Monkey works as a beach officer. But...           0\n",
       "3       187901  When an honest cop, Vijay Kumar\\'s family is r...           0\n",
       "4       187903  Kathiresan aka Kaththi, a criminal, escapes fr...           1\n",
       "...        ...                                                ...         ...\n",
       "3297    131062  In the middle of nowhere, 20 years after an ap...           1\n",
       "3298    131064  After living for years as a struggling artist ...           0\n",
       "3299    131066  Ronal is a young barbarian with low self-estee...           0\n",
       "3300    131068  Ziege, H\\xc3\\xa4schen and Max have now moved t...           0\n",
       "3301    131070  During their childhood, Hanna and Clarissa wer...           1\n",
       "\n",
       "[3302 rows x 3 columns]"
      ]
     },
     "execution_count": 65,
     "metadata": {},
     "output_type": "execute_result"
    }
   ],
   "source": [
    "evaluation_dataset = data.drop(columns=['genres'], axis=1)\n",
    "evaluation_dataset\n"
   ]
  },
  {
   "cell_type": "code",
   "execution_count": 66,
   "metadata": {},
   "outputs": [
    {
     "data": {
      "text/plain": [
       "0    1879\n",
       "1    1423\n",
       "Name: DramaGenre, dtype: int64"
      ]
     },
     "execution_count": 66,
     "metadata": {},
     "output_type": "execute_result"
    }
   ],
   "source": [
    "evaluation_dataset['DramaGenre'].value_counts()"
   ]
  },
  {
   "cell_type": "code",
   "execution_count": 67,
   "metadata": {},
   "outputs": [],
   "source": [
    "updated_story=evaluation_dataset['story']\n",
    "temp=[]\n",
    "for i in updated_story:\n",
    "    i = re.sub(r\"http\\S+\", \"\", i)\n",
    "    i = re.sub(\"[^a-zA-Z]\",\" \",i) \n",
    "    i=i.lower()\n",
    "    temp.append(i)\n",
    "evaluation_dataset['story']=temp"
   ]
  },
  {
   "cell_type": "code",
   "execution_count": 68,
   "metadata": {},
   "outputs": [],
   "source": [
    "import re\n",
    "from nltk.corpus import stopwords\n",
    "stop_words = set(stopwords.words('english'))\n",
    "\n",
    "j=[]\n",
    "n_s=[]\n",
    "for i in evaluation_dataset['story']:\n",
    "    n_s = [k for k in i.split() if not k in stop_words]\n",
    "    j.append(' '.join(n_s))\n",
    "evaluation_dataset['story']=j"
   ]
  },
  {
   "cell_type": "code",
   "execution_count": 69,
   "metadata": {},
   "outputs": [],
   "source": [
    "from nltk.stem import WordNetLemmatizer\n",
    "\n",
    " \n",
    "L = WordNetLemmatizer()\n",
    "t2=[]\n",
    "for j in evaluation_dataset['story']:\n",
    "    t = word_tokenize(j)\n",
    "    t2.append(\" \".join([L.lemmatize(i, pos=\"v\") for i in t]))\n",
    "evaluation_dataset['story']=t2"
   ]
  },
  {
   "cell_type": "code",
   "execution_count": 70,
   "metadata": {},
   "outputs": [],
   "source": [
    "from sklearn.feature_extraction.text import TfidfVectorizer\n",
    "S= evaluation_dataset.story\n",
    "X2 = vect.transform(S)\n"
   ]
  },
  {
   "cell_type": "code",
   "execution_count": 71,
   "metadata": {},
   "outputs": [],
   "source": [
    "y2=evaluation_dataset.DramaGenre"
   ]
  },
  {
   "cell_type": "code",
   "execution_count": 72,
   "metadata": {},
   "outputs": [
    {
     "data": {
      "text/plain": [
       "(3302, 917325)"
      ]
     },
     "execution_count": 72,
     "metadata": {},
     "output_type": "execute_result"
    }
   ],
   "source": [
    "#X2.shape"
   ]
  },
  {
   "cell_type": "code",
   "execution_count": 73,
   "metadata": {},
   "outputs": [
    {
     "data": {
      "text/plain": [
       "(18870, 917325)"
      ]
     },
     "execution_count": 73,
     "metadata": {},
     "output_type": "execute_result"
    }
   ],
   "source": [
    "#X.shape"
   ]
  },
  {
   "cell_type": "code",
   "execution_count": 74,
   "metadata": {},
   "outputs": [],
   "source": [
    "selected_model.fit(X,y)\n",
    "y_hat=selected_model.predict(X2)"
   ]
  },
  {
   "cell_type": "code",
   "execution_count": 75,
   "metadata": {},
   "outputs": [
    {
     "name": "stdout",
     "output_type": "stream",
     "text": [
      "Accuracy of the Best model:  72.62265293761357\n",
      "              precision    recall  f1-score   support\n",
      "\n",
      "           0       0.78      0.73      0.75      1879\n",
      "           1       0.67      0.73      0.70      1423\n",
      "\n",
      "    accuracy                           0.73      3302\n",
      "   macro avg       0.72      0.73      0.72      3302\n",
      "weighted avg       0.73      0.73      0.73      3302\n",
      "\n"
     ]
    }
   ],
   "source": [
    "Accuracy = accuracy_score(y2,y_hat, normalize = True) * 100\n",
    "print(\"Accuracy of the Best model: \", Accuracy)\n",
    "print(classification_report(y2,y_hat))"
   ]
  },
  {
   "cell_type": "code",
   "execution_count": 77,
   "metadata": {},
   "outputs": [
    {
     "name": "stdout",
     "output_type": "stream",
     "text": [
      "Final accuracy for best model : 72.6227\n",
      "F1 Score for the best model : 69.5828\n",
      "Precision Score for the best model : 66.7527\n",
      "Recall Score for the best model : 72.6634\n"
     ]
    }
   ],
   "source": [
    "print(\"Final accuracy for best model : {:.4f}\".format(accuracy_score(y2,y_hat) * 100))\n",
    "\n",
    "print(\"F1 Score for the best model : {:.4f}\".format(f1_score(y2,y_hat) * 100))\n",
    "print(\"Precision Score for the best model : {:.4f}\".format(precision_score(y2,y_hat) * 100))\n",
    "print(\"Recall Score for the best model : {:.4f}\".format(recall_score(y2,y_hat) * 100))"
   ]
  },
  {
   "cell_type": "markdown",
   "metadata": {},
   "source": [
    "### Output"
   ]
  },
  {
   "cell_type": "markdown",
   "metadata": {},
   "source": [
    "<ul>\n",
    "    <li>Make sure to put descriptive comments on your code</li>\n",
    "    <li>Use the markdown cell format in Jupiter to add your own interpretation to the result in each section.</li>\n",
    "    <li>Make sure to keep the output of your runs when you want to save the final version of the file.</li>\n",
    "    <li>The final submited file should be very well structured and should have a consistent flow of analysis.</li>\n",
    "    <li>You may want to use an additional word document to report the result of your analysis</li>\n",
    "</ul>"
   ]
  },
  {
   "cell_type": "markdown",
   "metadata": {},
   "source": [
    "#### Due Date: Dec 2 2022 at 11:59 AM"
   ]
  },
  {
   "cell_type": "markdown",
   "metadata": {},
   "source": [
    "<table style=\"width:400px;height:200px;border:1px black solid; background-color:white\">\n",
    "    <tr style=\"background-color:white\">\n",
    "        <th style=\"text-align:left;border:1px black solid\">Comprehensiveness</th>\n",
    "        <td style=\"text-align:center;border:1px black solid\"><b>30%</b></td>\n",
    "    </tr>\n",
    "    <tr style=\"background-color:white\">\n",
    "        <th style=\"text-align:left;border:1px black solid\">Correctness</th>\n",
    "        <td style=\"text-align:center;border:1px black solid\"><b>30%</b></td>\n",
    "    </tr>\n",
    "    <tr style=\"background-color:white\">\n",
    "        <th style=\"text-align:left;border:1px black solid\">Complete Report</th>\n",
    "        <td style=\"text-align:center;border:1px black solid\"><b>20%</b></td>\n",
    "    </tr>\n",
    "    <tr style=\"background-color:white\">\n",
    "        <th style=\"text-align:left;border:1px black solid\">Clear Code</th>\n",
    "        <td style=\"text-align:center;border:1px black solid\"><b>20%</b></td>\n",
    "    </tr>\n",
    "    <tr style=\"background-color:white\">\n",
    "        <th style=\"text-align:center;border:1px black solid;color:red\"><u>Total</u></th>\n",
    "        <td style=\"text-align:center;border:1px black solid;color:red\"><b stlyle=\"color:red\">100%</b></td>\n",
    "    </tr>\n",
    "</table>"
   ]
  }
 ],
 "metadata": {
  "kernelspec": {
   "display_name": "Python 3",
   "language": "python",
   "name": "python3"
  },
  "language_info": {
   "codemirror_mode": {
    "name": "ipython",
    "version": 3
   },
   "file_extension": ".py",
   "mimetype": "text/x-python",
   "name": "python",
   "nbconvert_exporter": "python",
   "pygments_lexer": "ipython3",
   "version": "3.8.8"
  }
 },
 "nbformat": 4,
 "nbformat_minor": 4
}
